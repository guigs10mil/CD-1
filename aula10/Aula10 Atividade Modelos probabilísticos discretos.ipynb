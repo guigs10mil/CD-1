{
 "cells": [
  {
   "cell_type": "markdown",
   "metadata": {},
   "source": [
    "___\n",
    "# Atividade: Modelos probabilísticos discretos e Dados\n",
    "___\n",
    "\n",
    "## Aula 10\n",
    "\n",
    "**Referência de Leitura:**\n",
    "1. Magalhães e Lima (7ª. Edição): Seções 3.2 e 3.3\n",
    "\n",
    "**Hoje:**\n",
    "1.\tDescrever modelos discretos quanto aos resultados teóricos.\n",
    "2.\tExplicar a utilização de modelos probabilísticos no contexto da literatura estatística.\n",
    "3.\tContrastar resultados teóricos e empíricos.\n",
    "4.\tFechamento do conteúdo.\n",
    "\n",
    "**Próxima aula:**\n",
    "1. Leitura prévia necessária: Magalhães e Lima (7ª. Edição): Seção 5.1 (pág. 137) e Seção 5.2 (pág. 146).\n",
    "___"
   ]
  },
  {
   "cell_type": "code",
   "execution_count": 1,
   "metadata": {
    "collapsed": true
   },
   "outputs": [],
   "source": [
    "%matplotlib inline\n",
    "import pandas as pd\n",
    "import matplotlib.pyplot as plt\n",
    "\n",
    "from scipy import stats #importa apenas as funções de estatísticas da biblioteca SciPy.\n",
    "import itertools #importante para gerar todos os resultados possíveis!!\n",
    "\n",
    "import math\n"
   ]
  },
  {
   "cell_type": "markdown",
   "metadata": {},
   "source": [
    "___\n",
    "## <font color='blue'>Exercício 1</font>\n",
    "\n",
    "Um resistor de 100K Ohms comprado na Santa Efigênia tem probabilidade de falha de 5%, segundo um fabricante ruim.\n",
    "\n",
    "Ainda, assuma os resistores falham de forma independente entre si.\n",
    "\n",
    "Um aluno de engenharia compra um pacote contendo $n$ resistores.\n",
    "\n",
    "1. Assuma $n=3$ e faça os itens a seguir.\n",
    "  1. Monte o espaço amostral que combine todos os resultados possíveis de Falha e não Falha desses $n$ resistores. Ainda, calcule a probabilidade de cada resultado do espaço amostral acontecer.\n",
    "  2. Se $Y$ representa o número de resistores que falham em um pacotinho com $n$ resistores, então construa a distribuição de probabilidades de $Y$.\n",
    "  3. Calcule a média e o desvio padrão de $Y$. Interprete os resultados.\n",
    "    \n",
    "2. Assuma $n=7$ e repita os itens A) a C) anteriores. No caso de $n=7$ ou maiores quantidades de resistores em um pacotinho, qual a viabilidade de construir a distribuição de probabilidades do número de resistores com defeitos quando $n$ não é pequeno?\n",
    "    \n",
    "3. Encontre a distribuição de probabilidades de cada possível valor de $Y$ utilizando a distribuição Binomial para $n=3$ e $n=7$. Calcule também $E(X)$ e $Var(X)$. Compare com as distribuições de probabilidades obtidas nos itens anteriores e discuta porque esses valores são iguais ou diferentes!\n",
    "    \n",
    "> **DISTRIBUIÇÃO BINOMIAL - TEORIA:**\n",
    "\n",
    "> É responsável por modelar uma variável $Y$ definida pelo Número de sucessos em $n$ tentativas, cuja probabilidade de sucesso é dada por $p$. Assim, dizemos que $Y$~$Bin(n,p)$ e lê-se: $Y$ segue uma distribuição binomial com $n$ tentativas e $p$ como probabilidade de sucesso. \n",
    "\n",
    "> A função de probabilidade nesse caso é dada por:\n",
    "$P(Y=y)=\\left(\n",
    "\\begin{array}{c}\n",
    "    n \\\\\n",
    "    y\n",
    "\\end{array}\\right) p^y (1-p)^{(n-y)}$\n",
    "\n",
    "> Para um experimento ter as probabilidade dos números de sucessos modeladas por uma distribuição Binomial, o mesmo precisa ter as seguintes propriedades:\n",
    "* é uma contagem de $n$ repetições (ou tentativas ou ensaios) idênticas;\n",
    "* cada repetição tem apenas 2 resultados possíveis: um é denominado sucesso e o outro, fracasso;\n",
    "* a probabilidade de sucesso para cada ensaio é denominada $p$ e será constante em cada repetição. Então, a probabilidade de fracasso $(1-p)$ também não varia de tentativa para tentativa;\n",
    "* As tentativas são independentes.\n",
    "\n",
    "\n",
    "> **DISTRIBUIÇÃO BINOMIAL - PYTHON:** <sup> [https://en.wikipedia.org/wiki/SciPy]\n",
    "\n",
    "> Algumas funções úteis para desenvolver seu código: <sup> [http://docs.scipy.org/doc/scipy-0.16.1/reference/generated/scipy.stats.binom.html]\n",
    "* $P(Y=y)$: `stats.binom.pmf(y, n, p)`\n",
    "* $P(Y\\leq y)$: `stats.binom.cdf(y, n, p)`\n",
    "* $E(X)$ e $Var(X)$: `stats.binom.stats(n, p, moments='mv')`\n"
   ]
  },
  {
   "cell_type": "code",
   "execution_count": 2,
   "metadata": {
    "collapsed": false
   },
   "outputs": [
    {
     "name": "stdout",
     "output_type": "stream",
     "text": [
      "***ITEM 1***\n",
      "\n",
      "Espaço Amostral Possível\n",
      "[('F', 'F', 'F'), ('F', 'F', 'NF'), ('F', 'NF', 'F'), ('F', 'NF', 'NF'), ('NF', 'F', 'F'), ('NF', 'F', 'NF'), ('NF', 'NF', 'F'), ('NF', 'NF', 'NF')]\n",
      "\n",
      "Probabilidade de cada possibilidade\n",
      "0.00013\n",
      "0.00238\n",
      "0.00238\n",
      "0.04512\n",
      "0.00238\n",
      "0.04512\n",
      "0.04512\n",
      "0.85737\n",
      "\n",
      "Probabilidade de F em n\n",
      "Resistores com falha: 0 Probabilidade 0.857375\n",
      "Resistores com falha: 1 Probabilidade 0.135375\n",
      "Resistores com falha: 2 Probabilidade 0.007125\n",
      "Resistores com falha: 3 Probabilidade 0.000125\n",
      "Soma possibilidades: 1.0\n",
      "\n",
      "Média: 0.15\n",
      "Variância: 0.143\n",
      "Desv. Padrão: 0.377\n"
     ]
    }
   ],
   "source": [
    "#item 1\n",
    "print('***ITEM 1***\\n')\n",
    "n=3\n",
    "pos = ['F', 'NF']\n",
    "prob = {'NF':0.95, 'F':0.05}\n",
    "\n",
    "arranjos = itertools.product(pos, repeat=3)\n",
    "espaco_amostral = list(arranjos)\n",
    "\n",
    "print('Espaço Amostral Possível')\n",
    "print(espaco_amostral)\n",
    "\n",
    "print('\\nProbabilidade de cada possibilidade')\n",
    "prob_pos = list()\n",
    "for res in espaco_amostral:\n",
    "    p = 1.0\n",
    "    for e in res:\n",
    "        p*=prob[e]\n",
    "    print(round(p, 5))\n",
    "    prob_pos.append(p)\n",
    "\n",
    "print('\\nProbabilidade de F em n')\n",
    "Y = [0,1,2,3]\n",
    "valoresX = dict()\n",
    "for y in Y:\n",
    "    for res in espaco_amostral:\n",
    "        if res.count('F') == y:\n",
    "            if not y in valoresX:\n",
    "                valoresX[y] = prob_pos[espaco_amostral.index(res)]\n",
    "            else:\n",
    "                valoresX[y] += prob_pos[espaco_amostral.index(res)]\n",
    "\n",
    "soma = 0\n",
    "for k in valoresX:\n",
    "    print('Resistores com falha:', k, 'Probabilidade', round(valoresX[k], 6))\n",
    "    soma += valoresX[k]\n",
    "print('Soma possibilidades:', round(soma,1))\n",
    "\n",
    "E, V = stats.binom.stats(n, 0.05, moments='mv')\n",
    "print('\\nMédia:', round(float(E), 3))\n",
    "print('Variância:', round(float(V), 3))\n",
    "print('Desv. Padrão:', round(math.sqrt(V),3))\n"
   ]
  },
  {
   "cell_type": "code",
   "execution_count": 3,
   "metadata": {
    "collapsed": false
   },
   "outputs": [
    {
     "name": "stdout",
     "output_type": "stream",
     "text": [
      "\n",
      "***ITEM 2***\n",
      "\n",
      "\n",
      "Espaço Amostral Possível\n",
      "[('F', 'F', 'F', 'F', 'F', 'F', 'F'), ('F', 'F', 'F', 'F', 'F', 'F', 'NF'), ('F', 'F', 'F', 'F', 'F', 'NF', 'F'), ('F', 'F', 'F', 'F', 'F', 'NF', 'NF'), ('F', 'F', 'F', 'F', 'NF', 'F', 'F'), ('F', 'F', 'F', 'F', 'NF', 'F', 'NF'), ('F', 'F', 'F', 'F', 'NF', 'NF', 'F'), ('F', 'F', 'F', 'F', 'NF', 'NF', 'NF'), ('F', 'F', 'F', 'NF', 'F', 'F', 'F'), ('F', 'F', 'F', 'NF', 'F', 'F', 'NF'), ('F', 'F', 'F', 'NF', 'F', 'NF', 'F'), ('F', 'F', 'F', 'NF', 'F', 'NF', 'NF'), ('F', 'F', 'F', 'NF', 'NF', 'F', 'F'), ('F', 'F', 'F', 'NF', 'NF', 'F', 'NF'), ('F', 'F', 'F', 'NF', 'NF', 'NF', 'F'), ('F', 'F', 'F', 'NF', 'NF', 'NF', 'NF'), ('F', 'F', 'NF', 'F', 'F', 'F', 'F'), ('F', 'F', 'NF', 'F', 'F', 'F', 'NF'), ('F', 'F', 'NF', 'F', 'F', 'NF', 'F'), ('F', 'F', 'NF', 'F', 'F', 'NF', 'NF'), ('F', 'F', 'NF', 'F', 'NF', 'F', 'F'), ('F', 'F', 'NF', 'F', 'NF', 'F', 'NF'), ('F', 'F', 'NF', 'F', 'NF', 'NF', 'F'), ('F', 'F', 'NF', 'F', 'NF', 'NF', 'NF'), ('F', 'F', 'NF', 'NF', 'F', 'F', 'F'), ('F', 'F', 'NF', 'NF', 'F', 'F', 'NF'), ('F', 'F', 'NF', 'NF', 'F', 'NF', 'F'), ('F', 'F', 'NF', 'NF', 'F', 'NF', 'NF'), ('F', 'F', 'NF', 'NF', 'NF', 'F', 'F'), ('F', 'F', 'NF', 'NF', 'NF', 'F', 'NF'), ('F', 'F', 'NF', 'NF', 'NF', 'NF', 'F'), ('F', 'F', 'NF', 'NF', 'NF', 'NF', 'NF'), ('F', 'NF', 'F', 'F', 'F', 'F', 'F'), ('F', 'NF', 'F', 'F', 'F', 'F', 'NF'), ('F', 'NF', 'F', 'F', 'F', 'NF', 'F'), ('F', 'NF', 'F', 'F', 'F', 'NF', 'NF'), ('F', 'NF', 'F', 'F', 'NF', 'F', 'F'), ('F', 'NF', 'F', 'F', 'NF', 'F', 'NF'), ('F', 'NF', 'F', 'F', 'NF', 'NF', 'F'), ('F', 'NF', 'F', 'F', 'NF', 'NF', 'NF'), ('F', 'NF', 'F', 'NF', 'F', 'F', 'F'), ('F', 'NF', 'F', 'NF', 'F', 'F', 'NF'), ('F', 'NF', 'F', 'NF', 'F', 'NF', 'F'), ('F', 'NF', 'F', 'NF', 'F', 'NF', 'NF'), ('F', 'NF', 'F', 'NF', 'NF', 'F', 'F'), ('F', 'NF', 'F', 'NF', 'NF', 'F', 'NF'), ('F', 'NF', 'F', 'NF', 'NF', 'NF', 'F'), ('F', 'NF', 'F', 'NF', 'NF', 'NF', 'NF'), ('F', 'NF', 'NF', 'F', 'F', 'F', 'F'), ('F', 'NF', 'NF', 'F', 'F', 'F', 'NF'), ('F', 'NF', 'NF', 'F', 'F', 'NF', 'F'), ('F', 'NF', 'NF', 'F', 'F', 'NF', 'NF'), ('F', 'NF', 'NF', 'F', 'NF', 'F', 'F'), ('F', 'NF', 'NF', 'F', 'NF', 'F', 'NF'), ('F', 'NF', 'NF', 'F', 'NF', 'NF', 'F'), ('F', 'NF', 'NF', 'F', 'NF', 'NF', 'NF'), ('F', 'NF', 'NF', 'NF', 'F', 'F', 'F'), ('F', 'NF', 'NF', 'NF', 'F', 'F', 'NF'), ('F', 'NF', 'NF', 'NF', 'F', 'NF', 'F'), ('F', 'NF', 'NF', 'NF', 'F', 'NF', 'NF'), ('F', 'NF', 'NF', 'NF', 'NF', 'F', 'F'), ('F', 'NF', 'NF', 'NF', 'NF', 'F', 'NF'), ('F', 'NF', 'NF', 'NF', 'NF', 'NF', 'F'), ('F', 'NF', 'NF', 'NF', 'NF', 'NF', 'NF'), ('NF', 'F', 'F', 'F', 'F', 'F', 'F'), ('NF', 'F', 'F', 'F', 'F', 'F', 'NF'), ('NF', 'F', 'F', 'F', 'F', 'NF', 'F'), ('NF', 'F', 'F', 'F', 'F', 'NF', 'NF'), ('NF', 'F', 'F', 'F', 'NF', 'F', 'F'), ('NF', 'F', 'F', 'F', 'NF', 'F', 'NF'), ('NF', 'F', 'F', 'F', 'NF', 'NF', 'F'), ('NF', 'F', 'F', 'F', 'NF', 'NF', 'NF'), ('NF', 'F', 'F', 'NF', 'F', 'F', 'F'), ('NF', 'F', 'F', 'NF', 'F', 'F', 'NF'), ('NF', 'F', 'F', 'NF', 'F', 'NF', 'F'), ('NF', 'F', 'F', 'NF', 'F', 'NF', 'NF'), ('NF', 'F', 'F', 'NF', 'NF', 'F', 'F'), ('NF', 'F', 'F', 'NF', 'NF', 'F', 'NF'), ('NF', 'F', 'F', 'NF', 'NF', 'NF', 'F'), ('NF', 'F', 'F', 'NF', 'NF', 'NF', 'NF'), ('NF', 'F', 'NF', 'F', 'F', 'F', 'F'), ('NF', 'F', 'NF', 'F', 'F', 'F', 'NF'), ('NF', 'F', 'NF', 'F', 'F', 'NF', 'F'), ('NF', 'F', 'NF', 'F', 'F', 'NF', 'NF'), ('NF', 'F', 'NF', 'F', 'NF', 'F', 'F'), ('NF', 'F', 'NF', 'F', 'NF', 'F', 'NF'), ('NF', 'F', 'NF', 'F', 'NF', 'NF', 'F'), ('NF', 'F', 'NF', 'F', 'NF', 'NF', 'NF'), ('NF', 'F', 'NF', 'NF', 'F', 'F', 'F'), ('NF', 'F', 'NF', 'NF', 'F', 'F', 'NF'), ('NF', 'F', 'NF', 'NF', 'F', 'NF', 'F'), ('NF', 'F', 'NF', 'NF', 'F', 'NF', 'NF'), ('NF', 'F', 'NF', 'NF', 'NF', 'F', 'F'), ('NF', 'F', 'NF', 'NF', 'NF', 'F', 'NF'), ('NF', 'F', 'NF', 'NF', 'NF', 'NF', 'F'), ('NF', 'F', 'NF', 'NF', 'NF', 'NF', 'NF'), ('NF', 'NF', 'F', 'F', 'F', 'F', 'F'), ('NF', 'NF', 'F', 'F', 'F', 'F', 'NF'), ('NF', 'NF', 'F', 'F', 'F', 'NF', 'F'), ('NF', 'NF', 'F', 'F', 'F', 'NF', 'NF'), ('NF', 'NF', 'F', 'F', 'NF', 'F', 'F'), ('NF', 'NF', 'F', 'F', 'NF', 'F', 'NF'), ('NF', 'NF', 'F', 'F', 'NF', 'NF', 'F'), ('NF', 'NF', 'F', 'F', 'NF', 'NF', 'NF'), ('NF', 'NF', 'F', 'NF', 'F', 'F', 'F'), ('NF', 'NF', 'F', 'NF', 'F', 'F', 'NF'), ('NF', 'NF', 'F', 'NF', 'F', 'NF', 'F'), ('NF', 'NF', 'F', 'NF', 'F', 'NF', 'NF'), ('NF', 'NF', 'F', 'NF', 'NF', 'F', 'F'), ('NF', 'NF', 'F', 'NF', 'NF', 'F', 'NF'), ('NF', 'NF', 'F', 'NF', 'NF', 'NF', 'F'), ('NF', 'NF', 'F', 'NF', 'NF', 'NF', 'NF'), ('NF', 'NF', 'NF', 'F', 'F', 'F', 'F'), ('NF', 'NF', 'NF', 'F', 'F', 'F', 'NF'), ('NF', 'NF', 'NF', 'F', 'F', 'NF', 'F'), ('NF', 'NF', 'NF', 'F', 'F', 'NF', 'NF'), ('NF', 'NF', 'NF', 'F', 'NF', 'F', 'F'), ('NF', 'NF', 'NF', 'F', 'NF', 'F', 'NF'), ('NF', 'NF', 'NF', 'F', 'NF', 'NF', 'F'), ('NF', 'NF', 'NF', 'F', 'NF', 'NF', 'NF'), ('NF', 'NF', 'NF', 'NF', 'F', 'F', 'F'), ('NF', 'NF', 'NF', 'NF', 'F', 'F', 'NF'), ('NF', 'NF', 'NF', 'NF', 'F', 'NF', 'F'), ('NF', 'NF', 'NF', 'NF', 'F', 'NF', 'NF'), ('NF', 'NF', 'NF', 'NF', 'NF', 'F', 'F'), ('NF', 'NF', 'NF', 'NF', 'NF', 'F', 'NF'), ('NF', 'NF', 'NF', 'NF', 'NF', 'NF', 'F'), ('NF', 'NF', 'NF', 'NF', 'NF', 'NF', 'NF')]\n",
      "\n",
      "Probabilidade de cada possibilidade\n",
      "8e-10\n",
      "1.48e-08\n",
      "1.48e-08\n",
      "2.82e-07\n",
      "1.48e-08\n",
      "2.82e-07\n",
      "2.82e-07\n",
      "5.3586e-06\n",
      "1.48e-08\n",
      "2.82e-07\n",
      "2.82e-07\n",
      "5.3586e-06\n",
      "2.82e-07\n",
      "5.3586e-06\n",
      "5.3586e-06\n",
      "0.0001018133\n",
      "1.48e-08\n",
      "2.82e-07\n",
      "2.82e-07\n",
      "5.3586e-06\n",
      "2.82e-07\n",
      "5.3586e-06\n",
      "5.3586e-06\n",
      "0.0001018133\n",
      "2.82e-07\n",
      "5.3586e-06\n",
      "5.3586e-06\n",
      "0.0001018133\n",
      "5.3586e-06\n",
      "0.0001018133\n",
      "0.0001018133\n",
      "0.0019344523\n",
      "1.48e-08\n",
      "2.82e-07\n",
      "2.82e-07\n",
      "5.3586e-06\n",
      "2.82e-07\n",
      "5.3586e-06\n",
      "5.3586e-06\n",
      "0.0001018133\n",
      "2.82e-07\n",
      "5.3586e-06\n",
      "5.3586e-06\n",
      "0.0001018133\n",
      "5.3586e-06\n",
      "0.0001018133\n",
      "0.0001018133\n",
      "0.0019344523\n",
      "2.82e-07\n",
      "5.3586e-06\n",
      "5.3586e-06\n",
      "0.0001018133\n",
      "5.3586e-06\n",
      "0.0001018133\n",
      "0.0001018133\n",
      "0.0019344523\n",
      "5.3586e-06\n",
      "0.0001018133\n",
      "0.0001018133\n",
      "0.0019344523\n",
      "0.0001018133\n",
      "0.0019344523\n",
      "0.0019344523\n",
      "0.0367545945\n",
      "1.48e-08\n",
      "2.82e-07\n",
      "2.82e-07\n",
      "5.3586e-06\n",
      "2.82e-07\n",
      "5.3586e-06\n",
      "5.3586e-06\n",
      "0.0001018133\n",
      "2.82e-07\n",
      "5.3586e-06\n",
      "5.3586e-06\n",
      "0.0001018133\n",
      "5.3586e-06\n",
      "0.0001018133\n",
      "0.0001018133\n",
      "0.0019344523\n",
      "2.82e-07\n",
      "5.3586e-06\n",
      "5.3586e-06\n",
      "0.0001018133\n",
      "5.3586e-06\n",
      "0.0001018133\n",
      "0.0001018133\n",
      "0.0019344523\n",
      "5.3586e-06\n",
      "0.0001018133\n",
      "0.0001018133\n",
      "0.0019344523\n",
      "0.0001018133\n",
      "0.0019344523\n",
      "0.0019344523\n",
      "0.0367545945\n",
      "2.82e-07\n",
      "5.3586e-06\n",
      "5.3586e-06\n",
      "0.0001018133\n",
      "5.3586e-06\n",
      "0.0001018133\n",
      "0.0001018133\n",
      "0.0019344523\n",
      "5.3586e-06\n",
      "0.0001018133\n",
      "0.0001018133\n",
      "0.0019344523\n",
      "0.0001018133\n",
      "0.0019344523\n",
      "0.0019344523\n",
      "0.0367545945\n",
      "5.3586e-06\n",
      "0.0001018133\n",
      "0.0001018133\n",
      "0.0019344523\n",
      "0.0001018133\n",
      "0.0019344523\n",
      "0.0019344523\n",
      "0.0367545945\n",
      "0.0001018133\n",
      "0.0019344523\n",
      "0.0019344523\n",
      "0.0367545945\n",
      "0.0019344523\n",
      "0.0367545945\n",
      "0.0367545945\n",
      "0.6983372961\n",
      "\n",
      "Probabilidade de F em n\n",
      "Resistores com falha: 0 Probabilidade 0.698337\n",
      "Resistores com falha: 1 Probabilidade 0.257282\n",
      "Resistores com falha: 2 Probabilidade 0.040623\n",
      "Resistores com falha: 3 Probabilidade 0.003563\n",
      "Resistores com falha: 4 Probabilidade 0.000188\n",
      "Resistores com falha: 5 Probabilidade 6e-06\n",
      "Resistores com falha: 6 Probabilidade 0.0\n",
      "Resistores com falha: 7 Probabilidade 0.0\n",
      "Soma possibilidades: 1.0\n",
      "\n",
      "Média: 0.35\n",
      "Variância: 0.333\n",
      "Desv. Padrão: 0.577\n"
     ]
    }
   ],
   "source": [
    "#item 2-------------------------------------------------------------------------------------------------------------------------\n",
    "print('\\n***ITEM 2***\\n')\n",
    "n=7\n",
    "arranjos = itertools.product(pos, repeat=n)\n",
    "espaco_amostral = list(arranjos)\n",
    "\n",
    "print('\\nEspaço Amostral Possível')\n",
    "print(espaco_amostral)\n",
    "\n",
    "print('\\nProbabilidade de cada possibilidade')\n",
    "prob_pos = list()\n",
    "for res in espaco_amostral:\n",
    "    p = 1.0\n",
    "    for e in res:\n",
    "        p*=prob[e]\n",
    "    print(round(p, 10))\n",
    "    prob_pos.append(p)\n",
    "\n",
    "print('\\nProbabilidade de F em n')\n",
    "Y = list(range(0,8))\n",
    "valoresX = dict()\n",
    "for y in Y:\n",
    "    for res in espaco_amostral:\n",
    "        if res.count('F') == y:\n",
    "            if not y in valoresX:\n",
    "                valoresX[y] = prob_pos[espaco_amostral.index(res)]\n",
    "            else:\n",
    "                valoresX[y] += prob_pos[espaco_amostral.index(res)]\n",
    "\n",
    "soma = 0\n",
    "for k in valoresX:\n",
    "    print('Resistores com falha:', k, 'Probabilidade', round(valoresX[k], 6))\n",
    "    soma += valoresX[k]\n",
    "print('Soma possibilidades:', round(soma,1))\n",
    "\n",
    "E, V = stats.binom.stats(n, 0.05, moments='mv')\n",
    "print('\\nMédia:', round(float(E), 3))\n",
    "print('Variância:', round(float(V), 3))\n",
    "print('Desv. Padrão:', round(math.sqrt(V),3))"
   ]
  },
  {
   "cell_type": "code",
   "execution_count": 4,
   "metadata": {
    "collapsed": false
   },
   "outputs": [
    {
     "name": "stdout",
     "output_type": "stream",
     "text": [
      "P3: 0.00012\n",
      "P7: 0.003563\n"
     ]
    }
   ],
   "source": [
    "P3 = stats.binom.pmf(3, 3, 0.05)\n",
    "print('P3:', round(P3,5))\n",
    "\n",
    "P7 = stats.binom.pmf(3,7,0.05)\n",
    "print('P7:', round(P7,6))"
   ]
  },
  {
   "cell_type": "markdown",
   "metadata": {
    "collapsed": true
   },
   "source": [
    "___\n",
    "## <font color='blue'>Exercício 2</font>\n",
    "\n",
    "Uma fábrica produz determinado veículo. O gerente de vendas fechou um negócio que implica na produção de pelo menos 110 unidades nos próximos dois meses. Para isso, será construída uma nova linha de montagem com capacidade para produzir em média 50 veículos por mês (considere meses de 30 dias). A linha funcionará ininterruptamente. Além disso, apenas um veículo é produzido por vez. Considere que um modelo Poisson seja adequado para a quantidade de veículos produzidos.\n",
    "   1. Qual a probabilidade  da produção ser igual a 100 veículos nos próximos dois meses?\n",
    "   2. Qual a probabilidade  da produção ser de pelo menos 100 veículos nos próximos dois meses?\n",
    "   3. Qual a probabilidade da produção ser entre 100 e 110 veículos nos próximos dois meses?\n",
    "   4. Se forem produzidos de pelo menos 100 veículos no próximo mês, qual a probabilidade do gerente cumprir a meta negociada?\n",
    "   5. Caso o prazo seja cumprido, o lucro será da ordem de $250$ mil, caso não seja, o lucro cai para $200$ mil. Qual é o lucro esperado e seu desvio-padrão?\n",
    "\n",
    "**Observação:** Explore os comandos de `stats.poisson`. <sup>[http://docs.scipy.org/doc/scipy/reference/generated/scipy.stats.poisson.html]\n"
   ]
  },
  {
   "cell_type": "code",
   "execution_count": null,
   "metadata": {
    "collapsed": true
   },
   "outputs": [],
   "source": []
  },
  {
   "cell_type": "markdown",
   "metadata": {},
   "source": [
    "___\n",
    "## <font color='blue'>Exercício 3</font> \n",
    "### <font color='red'>**Check para dia 13/09 em DUPLA **</font>\n",
    "\n",
    "Esse exercício irá explorar uma modelagem de dados reais.\n",
    "\n",
    "> **Confira alguns itens obrigatórios verificados durante a vistoria do Detran**\n",
    "\n",
    "> *Todos os veículos, novos ou velhos, precisam passar por uma vistoria todos os anos. (...) O motorista precisa estar atento a alguns itens obrigatórios. Tudo deve funcionar perfeitamente, apresentar bom estado de conservação e estar dentro do prazo de validade.*\n",
    "\n",
    "> <sup>Fonte: http://extra.globo.com/noticias/brasil/transito-seguro/confira-alguns-itens-obrigatorios-verificados-durante-vistoria-do-detran-10190355.html</sup>\n",
    "\n",
    "Essa matéria lista 14 itens que são inspecionados pelo Detran, dentre os quais têm-se: extintor de incêndio deve estar dentro do prazo de validade; pneus devem estar em bom estado de conservação; buzina deve funcionar perfeitamente; e cintos de segurança para todos os ocupantes do carro. Se, no final das contas, todos os 14 itens estiverem funcionando perfeitamente, o motorista irá feliz para casa assegurado de que seu carro está sem problemas com a vistoria.\n",
    "\n",
    "1. A base de dados `Carros.txt` apresenta, para cada um dos três mil carros de passeio vistoriados, duas informações: tipo de carro (1: Popular e 2: Não Popular) e quantidade de itens vistoriados em não conformidade (que pode variar de 0 a 14). \n",
    "    1. Considerando todos os carros, analise a quantidade de itens vistoriados em não conformidade. Pela tabela de frequências relativas, calcule a média e variância dessa quantidade. Interprete-os.\n",
    "    2. Assuma que a variável *Quantidade de itens em não conformidade* possa ser ajustada pelo modelo Binomial com parâmetros $n=14$ e $p=0,10$. Interprete esses parâmetros para o problema em questão e, ainda, discuta se as propriedades da distribuição Binomial estão satisfeitas para o problema aqui me questão.\n",
    "    \n",
    "    **Independente da sua resposta anterior, considere que a distribuição binomial seja adequada para modelar a variável de interesse nos próximos itens!**\n",
    "    3. Utilizando o método `stats.binom.pmf`, obtenha a probabilidade de cada uma das quantidades de itens em não conformidade quando $n=14$ e $p=0,10$. Calcule o valor esperado e a variância da quantidade de itens em não conformidade utilizando o método `stats.binom.stats` e via resultado da Tabela 4.4 do Magalhães e Lima (pág. 125).\n",
    "    4. Compare as probabilidades teóricas com as frequências relativas observadas nos dados. Para isso, tem-se, por exemplo, as duas opções abaixo para comparar se os resultados empíricos se encaixam com o modelo teórico proposto. \n",
    "        - A primeira opção gráfica contrasta a frequência relativa e a probabilidade teórica para uma determinada quantidade de itens em não conformidade! Vide Figura 3.4 do livro Magalhães e Lima (pág. 87). Ou seja, essa opção contrasta a frequência relativa em um valor de $y$ e a probabilidade pontual $P(Y=y)$.\n",
    "        - A segunda contrasta a frequência relativa acumulada com a probabilidade acumulada até determinada quantidade de itens em não conformidade. Ou seja, compara a frequência relativa acumulada até $y$ com a probabilidade acumulada $P(Y\\leq y)$.\n",
    "    Construa os gráficos de acordo com as duas opções e refine sua conclusão quanto ao uso do modelo teórico para ajustar a variável em questão!\n",
    "    5. Na prática, qual a necessidade de um modelo probabilístico já que se têm os dados observados?\n",
    "    6. Considerando apenas os carros populares, o modelo Binomial com parâmetros $n=14$ e $p=0,10$ é adequado para ajustar a variável Quantidade de itens em não conformidade? Se sim, justifique; caso não, sugira novos valores para os parâmetros da distribuição ajuste aos dados."
   ]
  },
  {
   "cell_type": "code",
   "execution_count": 15,
   "metadata": {
    "collapsed": false
   },
   "outputs": [
    {
     "name": "stdout",
     "output_type": "stream",
     "text": [
      "Esperamos trabalhar no diretório\n",
      "C:\\Users\\4Python\\Documents\\GitHub\\Insper\\Ciência dos Dados\\CDEng\\aula10\n"
     ]
    }
   ],
   "source": [
    "import os\n",
    "import math\n",
    "print('Esperamos trabalhar no diretório')\n",
    "print(os.getcwd())\n",
    "carros = pd.read_table('Carros.txt', sep=' ')"
   ]
  },
  {
   "cell_type": "code",
   "execution_count": 16,
   "metadata": {
    "collapsed": false
   },
   "outputs": [
    {
     "name": "stdout",
     "output_type": "stream",
     "text": [
      "Tabela 1: Frequência Relativa\n",
      "\n",
      "1    0.316667\n",
      "0    0.288000\n",
      "2    0.221333\n",
      "3    0.108333\n",
      "4    0.046333\n",
      "5    0.015667\n",
      "6    0.002667\n",
      "7    0.000667\n",
      "8    0.000333\n",
      "Name: Quantidade, dtype: float64\n",
      "\n",
      "Itens fora da conformidade:  4114\n",
      "Média de itens fora da conformidade:  1.371\n",
      "Variância dos itens fora da conformidade:  1.58\n"
     ]
    }
   ],
   "source": [
    "#----------------------------------------------------- A\n",
    "tb1 = carros.Quantidade.value_counts(True)\n",
    "print('Tabela 1: Frequência Relativa\\n')\n",
    "print(tb1)\n",
    "soma_itens = carros.Quantidade.sum()\n",
    "print(\"\\nItens fora da conformidade: \", soma_itens)\n",
    "media_itens = carros.Quantidade.mean()\n",
    "print('Média de itens fora da conformidade: ', round(media_itens, 3))\n",
    "variancia = carros.Quantidade.var()\n",
    "print(\"Variância dos itens fora da conformidade: \", round(variancia, 3))"
   ]
  },
  {
   "cell_type": "code",
   "execution_count": 44,
   "metadata": {
    "collapsed": false
   },
   "outputs": [
    {
     "name": "stdout",
     "output_type": "stream",
     "text": [
      "Probabilidades com todas as casas decimais\n",
      "\n",
      "y = 1, probabilidade = 0.355861216\n",
      "y = 2, probabilidade = 0.2570108782\n"
     ]
    }
   ],
   "source": [
    "#------------------------------------------------------ B\n",
    "n = 14\n",
    "p = 0.1\n",
    "\n",
    "probabilidades = list()\n",
    "for y in range(1,3):\n",
    "    comb = math.factorial(n)/(math.factorial(n-y)*math.factorial(y))\n",
    "    prob = comb*(p**y)*(1-p)**(n-y)\n",
    "    probabilidades.append(prob)\n",
    "    \n",
    "print('Probabilidades com todas as casas decimais\\n')\n",
    "for k in range(len(probabilidades)):\n",
    "    print('y = {0}, probabilidade = {1}'.format(k+1, round(probabilidades[k],10)))\n",
    "    \n",
    "#Os resultados parecem a tender para um valor em comum com o modelo binomial, desse modo, \n",
    "#o modelo binomial satisfaz as condições do problema."
   ]
  },
  {
   "cell_type": "code",
   "execution_count": 46,
   "metadata": {
    "collapsed": false
   },
   "outputs": [
    {
     "name": "stdout",
     "output_type": "stream",
     "text": [
      "y = 1, probabilidade = 0.355861216\n",
      "y = 2, probabilidade = 0.2570108782\n",
      "y = 3, probabilidade = 0.114227057\n",
      "y = 4, probabilidade = 0.0349027119\n",
      "y = 5, probabilidade = 0.0077561582\n",
      "y = 6, probabilidade = 0.001292693\n",
      "y = 7, probabilidade = 0.0001641515\n",
      "y = 8, probabilidade = 1.59592e-05\n",
      "y = 9, probabilidade = 1.1822e-06\n",
      "y = 10, probabilidade = 6.57e-08\n",
      "y = 11, probabilidade = 2.7e-09\n",
      "y = 12, probabilidade = 1e-10\n",
      "y = 13, probabilidade = 0.0\n",
      "y = 14, probabilidade = 0.0\n",
      "Valor Médio Esperado:  1.4000000000000001\n",
      "Variância:  1.2600000000000002\n"
     ]
    }
   ],
   "source": [
    "#------------------------------------------------- C\n",
    "stat = list()\n",
    "for i in range(1,15):\n",
    "    stat.append(round(stats.binom.pmf(i,14,0.1),10))\n",
    "    print('y = {0}, probabilidade = {1}'.format(i, stat[i-1]))\n",
    "    \n",
    "print('Valor Médio Esperado: ', stats.binom.stats(14,0.1)[0])\n",
    "print('Variância: ', stats.binom.stats(14,0.1)[1])\n"
   ]
  },
  {
   "cell_type": "code",
   "execution_count": 57,
   "metadata": {
    "collapsed": false
   },
   "outputs": [
    {
     "data": {
      "image/png": "[encoded data removed]",
      "text/plain": [
       "<matplotlib.figure.Figure at 0x5668430>"
      ]
     },
     "metadata": {},
     "output_type": "display_data"
    }
   ],
   "source": [
    "#----------------------------------------------- D\n",
    "carros.Quantidade.value_counts(True).plot.bar()\n",
    "plt.grid()\n",
    "plt.show()"
   ]
  },
  {
   "cell_type": "code",
   "execution_count": 58,
   "metadata": {
    "collapsed": false
   },
   "outputs": [
    {
     "data": {
      "image/png": "[encoded data removed]",
      "text/plain": [
       "<matplotlib.figure.Figure at 0x56a6630>"
      ]
     },
     "metadata": {},
     "output_type": "display_data"
    }
   ],
   "source": [
    "plt.plot(range(1,15), stat, \"ro\" )\n",
    "plt.grid()\n",
    "plt.show()"
   ]
  },
  {
   "cell_type": "markdown",
   "metadata": {},
   "source": [
    "E.  A probabilidade permite estimar os possíveis dados futuros."
   ]
  },
  {
   "cell_type": "code",
   "execution_count": null,
   "metadata": {
    "collapsed": true
   },
   "outputs": [],
   "source": []
  }
 ],
 "metadata": {
  "anaconda-cloud": {},
  "kernelspec": {
   "display_name": "Python [Root]",
   "language": "python",
   "name": "Python [Root]"
  },
  "language_info": {
   "codemirror_mode": {
    "name": "ipython",
    "version": 3
   },
   "file_extension": ".py",
   "mimetype": "text/x-python",
   "name": "python",
   "nbconvert_exporter": "python",
   "pygments_lexer": "ipython3",
   "version": "3.5.2"
  }
 },
 "nbformat": 4,
 "nbformat_minor": 0
}
