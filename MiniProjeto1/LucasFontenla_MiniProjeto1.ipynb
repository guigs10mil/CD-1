{
 "cells": [
  {
   "cell_type": "code",
   "execution_count": 3,
   "metadata": {
    "collapsed": false
   },
   "outputs": [],
   "source": [
    "import pandas as pd\n",
    "import matplotlib.pyplot as plt\n",
    "%matplotlib inline\n",
    "from scipy.stats import norm"
   ]
  },
  {
   "cell_type": "code",
   "execution_count": 16,
   "metadata": {
    "collapsed": false
   },
   "outputs": [],
   "source": [
    "airplane_crashes = pd.read_csv('Airplane_Crashes_and_Fatalities_Since_1908.csv', sep=\",\")"
   ]
  },
  {
   "cell_type": "code",
   "execution_count": 17,
   "metadata": {
    "collapsed": false
   },
   "outputs": [
    {
     "data": {
      "text/html": [
       "<div>\n",
       "<table border=\"1\" class=\"dataframe\">\n",
       "  <thead>\n",
       "    <tr style=\"text-align: right;\">\n",
       "      <th></th>\n",
       "      <th>Date</th>\n",
       "      <th>Time</th>\n",
       "      <th>Location</th>\n",
       "      <th>Operator</th>\n",
       "      <th>Flight #</th>\n",
       "      <th>Route</th>\n",
       "      <th>Type</th>\n",
       "      <th>Registration</th>\n",
       "      <th>cn/In</th>\n",
       "      <th>Aboard</th>\n",
       "      <th>Fatalities</th>\n",
       "      <th>Ground</th>\n",
       "      <th>Summary</th>\n",
       "    </tr>\n",
       "  </thead>\n",
       "  <tbody>\n",
       "    <tr>\n",
       "      <th>0</th>\n",
       "      <td>03/03/1928</td>\n",
       "      <td>NaN</td>\n",
       "      <td>Rio de Janeiro, Brazil</td>\n",
       "      <td>NaN</td>\n",
       "      <td>NaN</td>\n",
       "      <td>NaN</td>\n",
       "      <td>NaN</td>\n",
       "      <td>NaN</td>\n",
       "      <td>NaN</td>\n",
       "      <td>10</td>\n",
       "      <td>10</td>\n",
       "      <td>0</td>\n",
       "      <td>NaN</td>\n",
       "    </tr>\n",
       "    <tr>\n",
       "      <th>1</th>\n",
       "      <td>12/03/1928</td>\n",
       "      <td>08:00</td>\n",
       "      <td>Brazil</td>\n",
       "      <td>Syndicato Condor</td>\n",
       "      <td>NaN</td>\n",
       "      <td>NaN</td>\n",
       "      <td>Dornier Wal</td>\n",
       "      <td>P-BACA</td>\n",
       "      <td>063</td>\n",
       "      <td>14</td>\n",
       "      <td>14</td>\n",
       "      <td>0</td>\n",
       "      <td>The seaplane took off form the bay and narrowl...</td>\n",
       "    </tr>\n",
       "    <tr>\n",
       "      <th>2</th>\n",
       "      <td>12/04/1928</td>\n",
       "      <td>NaN</td>\n",
       "      <td>Rio de Janeiro, Brazil</td>\n",
       "      <td>NaN</td>\n",
       "      <td>NaN</td>\n",
       "      <td>NaN</td>\n",
       "      <td>Junkers G24</td>\n",
       "      <td>NaN</td>\n",
       "      <td>NaN</td>\n",
       "      <td>6</td>\n",
       "      <td>6</td>\n",
       "      <td>0</td>\n",
       "      <td>The aircraft's wingtip struck the water and cr...</td>\n",
       "    </tr>\n",
       "    <tr>\n",
       "      <th>3</th>\n",
       "      <td>11/07/1930</td>\n",
       "      <td>NaN</td>\n",
       "      <td>Off of Santos, Brazil</td>\n",
       "      <td>Syndicato Condor</td>\n",
       "      <td>NaN</td>\n",
       "      <td>NaN</td>\n",
       "      <td>Junkers G-24</td>\n",
       "      <td>P-BAHA</td>\n",
       "      <td>921</td>\n",
       "      <td>9</td>\n",
       "      <td>1</td>\n",
       "      <td>0</td>\n",
       "      <td>Crashed into the sea.</td>\n",
       "    </tr>\n",
       "    <tr>\n",
       "      <th>4</th>\n",
       "      <td>10/14/1931</td>\n",
       "      <td>NaN</td>\n",
       "      <td>Brazil</td>\n",
       "      <td>Syndicato Condor</td>\n",
       "      <td>NaN</td>\n",
       "      <td>NaN</td>\n",
       "      <td>Dornier Wal</td>\n",
       "      <td>P-BALSA</td>\n",
       "      <td>107</td>\n",
       "      <td>3</td>\n",
       "      <td>3</td>\n",
       "      <td>0</td>\n",
       "      <td>NaN</td>\n",
       "    </tr>\n",
       "  </tbody>\n",
       "</table>\n",
       "</div>"
      ],
      "text/plain": [
       "         Date   Time                Location          Operator  Flight #  \\\n",
       "0  03/03/1928    NaN  Rio de Janeiro, Brazil               NaN       NaN   \n",
       "1  12/03/1928  08:00                  Brazil  Syndicato Condor       NaN   \n",
       "2  12/04/1928    NaN  Rio de Janeiro, Brazil               NaN       NaN   \n",
       "3  11/07/1930    NaN   Off of Santos, Brazil  Syndicato Condor       NaN   \n",
       "4  10/14/1931    NaN                  Brazil  Syndicato Condor       NaN   \n",
       "\n",
       "  Route          Type Registration cn/In  Aboard  Fatalities  Ground  \\\n",
       "0   NaN           NaN          NaN   NaN      10          10       0   \n",
       "1   NaN   Dornier Wal       P-BACA   063      14          14       0   \n",
       "2   NaN   Junkers G24          NaN   NaN       6           6       0   \n",
       "3   NaN  Junkers G-24       P-BAHA   921       9           1       0   \n",
       "4   NaN   Dornier Wal      P-BALSA   107       3           3       0   \n",
       "\n",
       "                                             Summary  \n",
       "0                                                NaN  \n",
       "1  The seaplane took off form the bay and narrowl...  \n",
       "2  The aircraft's wingtip struck the water and cr...  \n",
       "3                              Crashed into the sea.  \n",
       "4                                                NaN  "
      ]
     },
     "execution_count": 17,
     "metadata": {},
     "output_type": "execute_result"
    }
   ],
   "source": [
    "airplane_crashes.head(5)"
   ]
  },
  {
   "cell_type": "code",
   "execution_count": 9,
   "metadata": {
    "collapsed": false
   },
   "outputs": [
    {
     "name": "stdout",
     "output_type": "stream",
     "text": [
      "(193, 13)\n"
     ]
    }
   ],
   "source": [
    "print(airplane_crashes.shape)"
   ]
  },
  {
   "cell_type": "code",
   "execution_count": 11,
   "metadata": {
    "collapsed": false
   },
   "outputs": [
    {
     "data": {
      "text/plain": [
       "count    193.000000\n",
       "mean      17.025907\n",
       "std       27.434474\n",
       "min        1.000000\n",
       "25%        4.000000\n",
       "50%        9.000000\n",
       "75%       20.000000\n",
       "max      228.000000\n",
       "Name: Fatalities, dtype: float64"
      ]
     },
     "execution_count": 11,
     "metadata": {},
     "output_type": "execute_result"
    }
   ],
   "source": [
    "airplane_crashes.Fatalities.describe()"
   ]
  },
  {
   "cell_type": "code",
   "execution_count": 14,
   "metadata": {
    "collapsed": false
   },
   "outputs": [
    {
     "data": {
      "text/plain": [
       "<matplotlib.axes._subplots.AxesSubplot at 0x1cbf2887160>"
      ]
     },
     "execution_count": 14,
     "metadata": {},
     "output_type": "execute_result"
    },
    {
     "data": {
      "image/png": "[encoded data removed]",
      "text/plain": [
       "<matplotlib.figure.Figure at 0x1cbf25f10b8>"
      ]
     },
     "metadata": {},
     "output_type": "display_data"
    }
   ],
   "source": [
    "airplane_crashes.Fatalities.hist(bins=20)"
   ]
  },
  {
   "cell_type": "code",
   "execution_count": null,
   "metadata": {
    "collapsed": true
   },
   "outputs": [],
   "source": []
  }
 ],
 "metadata": {
  "kernelspec": {
   "display_name": "Python 3",
   "language": "python",
   "name": "python3"
  },
  "language_info": {
   "codemirror_mode": {
    "name": "ipython",
    "version": 3
   },
   "file_extension": ".py",
   "mimetype": "text/x-python",
   "name": "python",
   "nbconvert_exporter": "python",
   "pygments_lexer": "ipython3",
   "version": "3.5.2"
  }
 },
 "nbformat": 4,
 "nbformat_minor": 0
}
