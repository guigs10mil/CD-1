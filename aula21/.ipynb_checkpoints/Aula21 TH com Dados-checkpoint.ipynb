{
 "cells": [
  {
   "cell_type": "markdown",
   "metadata": {},
   "source": [
    "# Aula 21 - Base de dados dos exercícios"
   ]
  },
  {
   "cell_type": "code",
   "execution_count": 8,
   "metadata": {
    "collapsed": true
   },
   "outputs": [],
   "source": [
    "import numpy as np\n",
    "import matplotlib.pyplot as plt\n",
    "import numpy.random as rnd\n",
    "from scipy.stats import norm\n",
    "import math\n",
    "%matplotlib inline"
   ]
  },
  {
   "cell_type": "markdown",
   "metadata": {},
   "source": [
    "___\n",
    "## Exercício 1 "
   ]
  },
  {
   "cell_type": "code",
   "execution_count": 9,
   "metadata": {
    "collapsed": true
   },
   "outputs": [],
   "source": [
    "data = [ 4.002,   0.489,   2.285,   0.634,\n",
    "         1.162,   0.649,   9.437,   1.212,\n",
    "         1.854,   1.958,   4.734,   0.976,\n",
    "         4.099,   0.698,   9.514,   1.241,\n",
    "         2.808,   0.517,   2.388,   3.083,\n",
    "         0.774,   1.011,   8.285,   0.711,\n",
    "         0.590,   3.257,   9.474,   2.331,\n",
    "         2.524,   2.375,   7.222,   5.260,\n",
    "         1.305,   0.800,   1.736,   5.760,\n",
    "         0.354,   4.532,   3.536,   2.827,\n",
    "         1.708,   8.476,   0.728,   5.958,\n",
    "         1.633,   6.368,   5.157,   7.457,   5.070]"
   ]
  },
  {
   "cell_type": "code",
   "execution_count": 88,
   "metadata": {
    "collapsed": false
   },
   "outputs": [
    {
     "name": "stdout",
     "output_type": "stream",
     "text": [
      "X Obs: 3.285\n",
      "\n",
      "Rejeitar\n",
      "0.006\n"
     ]
    },
    {
     "data": {
      "image/png": "[encoded data removed]",
      "text/plain": [
       "<matplotlib.figure.Figure at 0xb216c70>"
      ]
     },
     "metadata": {},
     "output_type": "display_data"
    }
   ],
   "source": [
    "std = 2\n",
    "alpha = 3/100\n",
    "\n",
    "x_obs = sum(data)/len(data)\n",
    "print('X Obs:', round(x_obs,3))\n",
    "n = 49\n",
    "x = 4\n",
    "\n",
    "std_obs = std/math.sqrt(49)\n",
    "\n",
    "prob = norm.cdf(x_obs, loc=x, scale=std_obs)\n",
    "\n",
    "if prob < alpha:\n",
    "    print('\\nRejeitar')\n",
    "else:\n",
    "    print('\\nNão Rejeitar')\n",
    "print(round(prob,3))\n",
    "\n",
    "values = norm.rvs(loc=x, scale=std_obs, size=100000)\n",
    "x_plot = sorted(values)\n",
    "y = norm.pdf(sorted(values), loc=x, scale=std_obs)\n",
    "\n",
    "plt.figure(figsize=(10,6))\n",
    "\n",
    "for i in x_plot:\n",
    "    if i >= x_obs:\n",
    "        break\n",
    "    else:\n",
    "        plt.plot([i, i], [0, y[x_plot.index(i)]], lw=2, color='#FF2F19', alpha=0.1)\n",
    "        \n",
    "for i in x_plot:\n",
    "    if i >= norm.ppf(0.05, loc=x, scale=std_obs):\n",
    "        break\n",
    "    elif i > x_obs:\n",
    "        plt.plot([i, i], [0, y[x_plot.index(i)]], lw=2, color='#910D00', alpha=0.1)\n",
    "\n",
    "#fake: get labels\n",
    "p_value = plt.plot([0,0], [0,0], color='#FF2F19', label='p-value')   \n",
    "sig = plt.plot([0,0], [0,0], color='#910D00', label='significância')   \n",
    "        \n",
    "plt.plot(x_plot, y, lw=2, color='#1156AB')\n",
    "obs = plt.axvline(x_obs, lw=2, color='#009143', label='x_obs', ls='dashed')\n",
    "plt.axis([3.0, 5.1, 0, 1.5])\n",
    "plt.legend(loc='best')\n",
    "plt.grid()\n",
    "plt.show()"
   ]
  },
  {
   "cell_type": "markdown",
   "metadata": {},
   "source": [
    "### ___\n",
    "## Exercício 2"
   ]
  },
  {
   "cell_type": "code",
   "execution_count": null,
   "metadata": {
    "collapsed": true
   },
   "outputs": [],
   "source": [
    "data = [114707,  113523,  117733,\n",
    "        111599,  115075,  115866,\n",
    "        116144,  116709,  118183,\n",
    "        114854,  115310,  113429,\n",
    "        112067,  114438,  117744,\n",
    "        110366,  113675,  113780,\n",
    "        116740,  111765,  115629,\n",
    "        113910,  115814,  118539,\n",
    "        115495]"
   ]
  },
  {
   "cell_type": "code",
   "execution_count": null,
   "metadata": {
    "collapsed": true
   },
   "outputs": [],
   "source": []
  },
  {
   "cell_type": "markdown",
   "metadata": {},
   "source": [
    "___\n",
    "## Exercício 3"
   ]
  },
  {
   "cell_type": "code",
   "execution_count": null,
   "metadata": {
    "collapsed": false
   },
   "outputs": [],
   "source": [
    "data = [31,46,13,3,13,17,34,55,16,54,7,36,48,81,107,24,6,18,35,50,51,25,20,9,26,37,26,16,22,24]"
   ]
  },
  {
   "cell_type": "code",
   "execution_count": null,
   "metadata": {
    "collapsed": true
   },
   "outputs": [],
   "source": []
  },
  {
   "cell_type": "code",
   "execution_count": null,
   "metadata": {
    "collapsed": true
   },
   "outputs": [],
   "source": []
  }
 ],
 "metadata": {
  "anaconda-cloud": {},
  "kernelspec": {
   "display_name": "Python [Root]",
   "language": "python",
   "name": "Python [Root]"
  },
  "language_info": {
   "codemirror_mode": {
    "name": "ipython",
    "version": 3
   },
   "file_extension": ".py",
   "mimetype": "text/x-python",
   "name": "python",
   "nbconvert_exporter": "python",
   "pygments_lexer": "ipython3",
   "version": "3.5.2"
  }
 },
 "nbformat": 4,
 "nbformat_minor": 0
}
