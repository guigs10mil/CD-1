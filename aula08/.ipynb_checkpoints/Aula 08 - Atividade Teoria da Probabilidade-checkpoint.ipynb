{
 "cells": [
  {
   "cell_type": "markdown",
   "metadata": {},
   "source": [
    "___\n",
    "# Atividade: Teoria da Probabilidade\n",
    "___\n",
    "\n",
    "## Aula 08\n",
    "\n",
    "**Referência de Leitura:**\n",
    "1. Magalhães e Lima (7ª. Edição): pág. 49 a 68 - Probabilidades\n",
    "\n",
    "**Hoje:**\n",
    "1. Conceito de Probabilidade\n",
    "4. Probabilidade Condicional\n",
    "3. Independência de eventos\n",
    "5. Teorema de Bayes. Simulação do problema de Monty Hall\n",
    "\n",
    "**Próxima aula:**\n",
    "1. Magalhães e Lima (7ª. Edição): pág. 69 a 104 - Variáveis aleatórias discretas\n",
    "___"
   ]
  },
  {
   "cell_type": "code",
   "execution_count": null,
   "metadata": {
    "collapsed": true
   },
   "outputs": [],
   "source": [
    "%matplotlib inline\n",
    "import pandas as pd\n",
    "import matplotlib.pyplot as plt\n",
    "\n",
    "#Bibliotecas necessárias\n",
    "from numpy.random import shuffle, randint, choice\n"
   ]
  },
  {
   "cell_type": "markdown",
   "metadata": {},
   "source": [
    "## <font color='blue'>Exercício 1</font>\n",
    "\n",
    "Monte a simulação de 1000 jogadas de um dado idôneo de 6 faces. Faça o histograma (normalizado) da frequência.\n",
    "\n",
    "    a) Olhando o histograma, o que pode se dizer sobre as probabilidade de cada face?\n",
    "    \n",
    "    b) Discorra sobre o porque da probabilidade não ser exatamente igual à teórica."
   ]
  },
  {
   "cell_type": "code",
   "execution_count": null,
   "metadata": {
    "collapsed": false
   },
   "outputs": [],
   "source": [
    "Jogadas = list()\n",
    "\n",
    "for i in range(0, 1000):\n",
    "    Jogadas.append(randint(1,7))\n",
    "\n",
    "Dado = pd.Series(Jogadas)\n",
    "values = Dado.value_counts(True)\n",
    "\n",
    "print(\"Jogadas Obtidas\\n\", values)\n",
    "\n",
    "values.plot(kind='bar')"
   ]
  },
  {
   "cell_type": "markdown",
   "metadata": {},
   "source": [
    "A) Através do gráfico, é possível identificar que algumas jogadas são obtidas mais vezes que as outras, porém, no geral, todas as linhas demonstram a tendência de se aproximar de um certo número, equivalente à propabilidade individual.\n",
    "\n",
    "B) A probabilidade real não é exatamente igual à probabilidade teórica pois quando nos referimos a probabilidade, nos referimos à chance de determinado evento acontecer. Porém, não indicamos que com certeza aquele evento irá acontecer, desse modo, podemos, sim, obter diferentes resultados. "
   ]
  },
  {
   "cell_type": "markdown",
   "metadata": {},
   "source": [
    "___\n",
    "## <font color='blue'>Exercício 2</font>\n",
    "\n",
    "Ampliando o espaço amostral para as possíveis jogadas de 2 dados, analise as seguintes situações:\n",
    "    \n",
    "    a) Jogando os dois dados ao mesmo tempo. Qual é a probabilidade de obter soma 7?\n",
    "    \n",
    "    b) Jogando um dado e depois o segundo dado. Qual é a probabilidade de obter soma 7 já sabendo o resultado do primeiro? Compare o resultado com item anterior! Por que é igual ou diferente?"
   ]
  },
  {
   "cell_type": "markdown",
   "metadata": {
    "collapsed": true
   },
   "source": [
    "A) Há 6 possibilidades dentro de 36 possíveis de se obter soma 7 com dois dados. São elas, (6,1), (1,6), (5,2), (2,5), (4,3), (3,4). Desse modo a probabilidade de se conseguir soma 7 é de 6/36 = 1/6 = 0,1667.\n",
    "\n",
    "B) Sabendo o número anterior, devemos preencher o número com outro no qual a soma dê 7. Desse modo, independentemente do número obtido no primeiro lançamento sempre haverá apenas 1 possibilidade em que a soma é igual a 7. Como são 6 números, saber o primeiro número não altera nada, já que am probabilidade continua em 1/6."
   ]
  },
  {
   "cell_type": "markdown",
   "metadata": {},
   "source": [
    "___\n",
    "## <font color='blue'>Exercício 3</font>\n",
    "\n",
    "Simule 10000 vezes o problema de Monty Hall¹ , usar o seguinte algoritmo:\n",
    "\n",
    "\n",
    "* Repetir 10000 vezes:\n",
    "    * Sorteie um número de porta de 1 a 3 para ser a premiada\n",
    "    * Sorteie um número de porta de 1 a 3 para ser a porta escolhida.\n",
    "    * Sorteie um número de porta para ser a aberta, desde que não seja a premiada e nem a porta escolhida. Assim, se:\n",
    "        * porta premiada é 1 e a escolhida é 1, sorteie entre as portas 2 e 3 para ser aberta\n",
    "        * porta premiada é 1 e a escolhida é 2, com probabilidade 1 deve abrir a porta 3\n",
    "        * porta premiada é 1 e a escolhida é 3, com probabilidade 1 deve abrir a porta 2\n",
    "        * assim para demais casos...\n",
    "    \n",
    "    * Calcule quantas vezes indivíduo ganha ao trocar de porta. Ou seja, se:\n",
    "        * porta premiada é 1, a escolhida é 1 e aberta é 2 (ou 3), indivíduo perde se trocar de porta\n",
    "        * porta premiada é 1, a escolhida é 2 e aberta é 3, indivíduo ganha se trocar de porta\n",
    "        * porta premiada é 1, a escolhida é 3 e aberta é 2, indivíduo ganha se trocar de porta\n",
    "        * assim para demais casos...\n",
    "        \n",
    "    * Exibir quantas vezes em 10000, o indivíduo ganhou ao trocar de porta.\n",
    "\n",
    "Compare o resultado numérico com o resultado analítico obtido via Teorema de Bayes.\n",
    "\n",
    "¹https://en.wikipedia.org/wiki/Monty_Hall_problem e \n",
    "Exercício 1.4.5 de http://www.portalaction.com.br/probabilidades/14-eventos-independentes-e-probabilidade-condicional"
   ]
  },
  {
   "cell_type": "code",
   "execution_count": 43,
   "metadata": {
    "collapsed": false
   },
   "outputs": [
    {
     "name": "stdout",
     "output_type": "stream",
     "text": [
      "Vitórias:  6656\n"
     ]
    }
   ],
   "source": [
    "wins = 0\n",
    "for i in range(0, 10000):\n",
    "    premiada = randint(1,4)\n",
    "    escolhida = randint(1,4)\n",
    "    if premiada == escolhida:\n",
    "        if premiada == escolhida == 1:\n",
    "            aberta = randint(2,4)\n",
    "        elif premiada == escolhida == 2:\n",
    "            aberta = choice([1,3])\n",
    "        elif premiada == escolhida == 3:\n",
    "            aberta = randint(1,3)\n",
    "    elif premiada != escolhida:\n",
    "        aberta = premiada\n",
    "        while aberta == escolhida or aberta == premiada:\n",
    "            aberta = randint(1,4)\n",
    "    #troca\n",
    "    nova_escolha = escolhida\n",
    "    while nova_escolha == escolhida or nova_escolha == aberta:\n",
    "        nova_escolha = randint(1,4)\n",
    "        \n",
    "    if nova_escolha == premiada:\n",
    "        wins += 1\n",
    "print('Vitórias: ', wins)"
   ]
  },
  {
   "cell_type": "code",
   "execution_count": 44,
   "metadata": {
    "collapsed": false
   },
   "outputs": [
    {
     "name": "stdout",
     "output_type": "stream",
     "text": [
      "Vitórias:  3324\n"
     ]
    }
   ],
   "source": [
    "wins = 0\n",
    "for i in range(0, 10000):\n",
    "    premiada = randint(1,4)\n",
    "    escolhida = randint(1,4)\n",
    "    if premiada == escolhida:\n",
    "        if premiada == escolhida == 1:\n",
    "            aberta = randint(2,4)\n",
    "        elif premiada == escolhida == 2:\n",
    "            aberta = choice([1,3])\n",
    "        elif premiada == escolhida == 3:\n",
    "            aberta = randint(1,3)\n",
    "    elif premiada != escolhida:\n",
    "        aberta = premiada\n",
    "        while aberta == escolhida or aberta == premiada:\n",
    "            aberta = randint(1,4)\n",
    "        \n",
    "    if escolhida == premiada:\n",
    "        wins += 1\n",
    "        \n",
    "print('Vitórias: ', wins)"
   ]
  },
  {
   "cell_type": "markdown",
   "metadata": {},
   "source": [
    "Segundo o Teorema de Baynes, logo no início, a chance de que o candidato escolha a porta correta é de 1/3. Desse modo, a chance que o prêmio esteja nas duas portas restantes será de 2/3.\n",
    "\n",
    "Quando o Monty Hall abre uma das portas em que não há a premiação, a porta escolhida pelo candidato continua tendo a probabilidade de 1/3 se ser a correta, porém, segundo Baynes, há a propagação da probabilidade das portas anteriores para a porta restante, desse modo a porta não escolhida tem agora uma probabilidade de ser a premiada de 2/3.\n",
    "Sendo assim, se o candidato mantém a escolha da porta, a chance de ganhar o prêmio é de 1/3, porém se ele muda a porta, a chance de ganhar o prêmio aumenta para 2/3.\n",
    "\n",
    "Nos testes obtidos, vemos que, mesmo com uma margem de erro (aceitável, já que são eventos aleatórios), quando o candidato opta por mudar de porta, a porcentagem de acerto chega aos 66%, muito próximo da probabilidade calculada de 2/3 = 0.6667. Caso ele não mude a porta, vemos que ainda se comporta como o esperado, com cerca de 33% de acerto, assim, correspondente ao 1/3 calculado."
   ]
  }
 ],
 "metadata": {
  "anaconda-cloud": {},
  "kernelspec": {
   "display_name": "Python [Root]",
   "language": "python",
   "name": "Python [Root]"
  },
  "language_info": {
   "codemirror_mode": {
    "name": "ipython",
    "version": 3
   },
   "file_extension": ".py",
   "mimetype": "text/x-python",
   "name": "python",
   "nbconvert_exporter": "python",
   "pygments_lexer": "ipython3",
   "version": "3.5.2"
  }
 },
 "nbformat": 4,
 "nbformat_minor": 0
}
