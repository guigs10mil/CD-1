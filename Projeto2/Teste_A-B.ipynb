{
 "cells": [
  {
   "cell_type": "markdown",
   "metadata": {},
   "source": [
    "<h1>PROJETO 2 | TESTE A/B</h1>\n",
    "<h3>Lucas Fontenla & Raphael Costa</h3>\n",
    "_______________________________________"
   ]
  },
  {
   "cell_type": "markdown",
   "metadata": {},
   "source": [
    "<ol>\n",
    "<h3><li>Resumo</li></h3>\n",
    "<p>Para o segundo projeto de Ciência dos Dados, fomos instruídos a avaliar duas versões diferentes de um website<p>\n",
    "<p>Nós escolhemos o portfolio utilizado para o curso de Co-Design de Aplicativos, disponível nesse <a href=\"http://cd-teste-ab.firebaseapp.com\">link.</a></p>\n",
    "\n",
    "<h3><li>Projeto</li></h3>\n",
    "<p>Foram criadas duas versões do site, ambas com a primeira página igual. As páginas da aba \"Projeto\" são diferentes no método de categorização dos projetos. Na versão A, o usuário precisa dar um \"scroll down\" na página, e há uma subcategoria que especifica mais qual o projeto. Na versão B, as categorias estão organizadas em blocos, direto na página.</p>\n",
    "<p>As páginas seguintes foram modificadas muito pouco, e de maneira geral, são muito próximas.</p>\n",
    "<h4>Veja páginas abaixo:</h4>\n",
    "\n",
    "<center><h4>Versão A</h4></center>\n",
    "<img src=\"img/projetos_vA.png\" width=\"600\">\n",
    "\n",
    "<center><h4>Versão B</h4></center>\n",
    "<img src=\"img/projetos_vB.png\" width=\"600\">\n",
    "\n",
    "<h3><li>Dinâmica da Análise</li></h3>\n",
    "<p>Logo na página de abertura, são sorteadas duas páginas, A e B, como mencionado acima, e ainda, outros dois projetos, \"Como evacuar um arranha-céu rapidamente\" de ModSim ou \"Singularity - NASA\" de GDE.</p>\n",
    "<p>Em seguida, são medidos os tempos que o usuário leva para achar a categoria certa do projeto, o tempo para achar o projeto depois de achar a categoria e o tempo total desde o início até achar o projeto.<p>\n",
    "<p><strong>Por que escolhemos dois projetos?</strong></p><p>Escolhemos dois projetos por conta da dificuldade. O Projeto de ModSim tem uma maior facilidade de ser encontrado por conta do nome da matéria e do nome da categoria. Já o de GDE, não é muito fácil de identificar a categoria correta, ou seja, estamos avaliando uma melhor versão para ambas as dificuldades</p>\n",
    "\n",
    "<h3><li>A Análise Estatística</li></h3>\n",
    "<p>A análise será feita com base no <strong>Teorema do Limite Central (TLC)</strong>, sendo a exata ferramenta discutida mais a frente, dependendo do número de amostras que obtivermos.</p>\n",
    "<p>Caso as amostras sejam muito pequenas, vamos optar pela distribuição t-Student, o contrário, caso as amostras sejam maiores que n=30, vamos optar pela curva normal.</p>"
   ]
  },
  {
   "cell_type": "markdown",
   "metadata": {},
   "source": [
    "<h3>PARTE 1 | Importando a base de dados do Firebase, calculando delta_t e montando o DataFrame</h3>"
   ]
  },
  {
   "cell_type": "code",
   "execution_count": 80,
   "metadata": {
    "collapsed": true
   },
   "outputs": [],
   "source": [
    "import pandas as pd\n",
    "import json\n",
    "import itertools\n",
    "import matplotlib.pyplot as plt\n",
    "import scipy.stats as stats\n",
    "import numpy as np\n",
    "import math\n",
    "%matplotlib inline"
   ]
  },
  {
   "cell_type": "code",
   "execution_count": 2,
   "metadata": {
    "collapsed": false
   },
   "outputs": [
    {
     "data": {
      "text/html": [
       "<div>\n",
       "<table border=\"1\" class=\"dataframe\">\n",
       "  <thead>\n",
       "    <tr style=\"text-align: right;\">\n",
       "      <th></th>\n",
       "      <th>projeto</th>\n",
       "      <th>tempo</th>\n",
       "      <th>tipo</th>\n",
       "      <th>user_id</th>\n",
       "      <th>versao</th>\n",
       "    </tr>\n",
       "  </thead>\n",
       "  <tbody>\n",
       "    <tr>\n",
       "      <th>0</th>\n",
       "      <td>ModSim</td>\n",
       "      <td>1478488684668</td>\n",
       "      <td>escolha_categoria</td>\n",
       "      <td>655675346</td>\n",
       "      <td>A</td>\n",
       "    </tr>\n",
       "    <tr>\n",
       "      <th>1</th>\n",
       "      <td>ModSim</td>\n",
       "      <td>1478524235599</td>\n",
       "      <td>inicio</td>\n",
       "      <td>655675346</td>\n",
       "      <td>A</td>\n",
       "    </tr>\n",
       "    <tr>\n",
       "      <th>2</th>\n",
       "      <td>GDE</td>\n",
       "      <td>1478487237775</td>\n",
       "      <td>inicio</td>\n",
       "      <td>655675346</td>\n",
       "      <td>A</td>\n",
       "    </tr>\n",
       "    <tr>\n",
       "      <th>3</th>\n",
       "      <td>ModSim</td>\n",
       "      <td>1478524696033</td>\n",
       "      <td>inicio</td>\n",
       "      <td>655675346</td>\n",
       "      <td>A</td>\n",
       "    </tr>\n",
       "    <tr>\n",
       "      <th>4</th>\n",
       "      <td>GDE</td>\n",
       "      <td>1478488126287</td>\n",
       "      <td>inicio</td>\n",
       "      <td>655675346</td>\n",
       "      <td>A</td>\n",
       "    </tr>\n",
       "  </tbody>\n",
       "</table>\n",
       "</div>"
      ],
      "text/plain": [
       "  projeto          tempo               tipo    user_id versao\n",
       "0  ModSim  1478488684668  escolha_categoria  655675346      A\n",
       "1  ModSim  1478524235599             inicio  655675346      A\n",
       "2     GDE  1478487237775             inicio  655675346      A\n",
       "3  ModSim  1478524696033             inicio  655675346      A\n",
       "4     GDE  1478488126287             inicio  655675346      A"
      ]
     },
     "execution_count": 2,
     "metadata": {},
     "output_type": "execute_result"
    }
   ],
   "source": [
    "with open('data/cd-teste-ab-export.json') as data_file:    \n",
    "    data = json.load(data_file)\n",
    "    \n",
    "data = data['logs']\n",
    "\n",
    "resultados = list()\n",
    "\n",
    "for key in data.keys():\n",
    "    resultados.append(data[key])\n",
    "    \n",
    "data = pd.DataFrame(resultados)\n",
    "\n",
    "data['user_id'] = data['user_id'].apply(pd.to_numeric)\n",
    "\n",
    "data.head()"
   ]
  },
  {
   "cell_type": "code",
   "execution_count": 3,
   "metadata": {
    "collapsed": false
   },
   "outputs": [],
   "source": [
    "agrupado = data.groupby(by=[\"user_id\", \"versao\"])"
   ]
  },
  {
   "cell_type": "code",
   "execution_count": 4,
   "metadata": {
    "collapsed": false
   },
   "outputs": [],
   "source": [
    "users = set(data.user_id)"
   ]
  },
  {
   "cell_type": "code",
   "execution_count": 5,
   "metadata": {
    "collapsed": true
   },
   "outputs": [],
   "source": [
    "users = list(users)"
   ]
  },
  {
   "cell_type": "code",
   "execution_count": 6,
   "metadata": {
    "collapsed": false
   },
   "outputs": [],
   "source": [
    "resultados = []\n",
    "\n",
    "for u in users:\n",
    "    for versao in [\"A\", \"B\"]:\n",
    "        for proj in data[data.user_id ==  u].projeto:\n",
    "            if (u, versao) in agrupado.groups.keys(): \n",
    "                grupo1 =  agrupado.get_group((u, versao))\n",
    "                grupo1 = grupo1.sort_values(by=\"tempo\") \n",
    "\n",
    "                if len(grupo1[grupo1.tipo==\"final\"])>= 1 and len(grupo1[grupo1.tipo==\"inicio\"]) >= 1 and len(grupo1[grupo1.tipo==\"escolha_categoria\"]) >= 1:\n",
    "                    delta_t1 = grupo1[grupo1.tipo==\"escolha_categoria\"].iloc[-1].tempo - grupo1[grupo1.tipo==\"inicio\"].iloc[0].tempo\n",
    "                    delta_t2 = grupo1[grupo1.tipo==\"final\"].iloc[-1].tempo - grupo1[grupo1.tipo==\"escolha_categoria\"].iloc[0].tempo\n",
    "                    delta_t3 = grupo1[grupo1.tipo==\"final\"].iloc[-1].tempo - grupo1[grupo1.tipo==\"inicio\"].iloc[0].tempo\n",
    "                    \n",
    "                    resultados.append({\"user_id\":u, \"delta_t_cat\":delta_t1, \"delta_t_final\":delta_t2, \"delta_t\":delta_t3, \"versao\":versao, \"projeto\":proj})"
   ]
  },
  {
   "cell_type": "code",
   "execution_count": 7,
   "metadata": {
    "collapsed": true
   },
   "outputs": [],
   "source": [
    "grupo1.sort_values(by=\"tempo\")\n",
    "data = pd.DataFrame(resultados)"
   ]
  },
  {
   "cell_type": "code",
   "execution_count": 11,
   "metadata": {
    "collapsed": false
   },
   "outputs": [],
   "source": [
    "data.delta_t_cat/=1000\n",
    "data.delta_t_final/=1000\n",
    "data.delta_t/=1000"
   ]
  },
  {
   "cell_type": "code",
   "execution_count": 12,
   "metadata": {
    "collapsed": false
   },
   "outputs": [],
   "source": [
    "A = data.delta_t_cat.dropna\n",
    "B = data.delta_t_final.dropna\n",
    "C = data.delta_t.dropna"
   ]
  },
  {
   "cell_type": "code",
   "execution_count": 13,
   "metadata": {
    "collapsed": false
   },
   "outputs": [
    {
     "data": {
      "text/html": [
       "<div>\n",
       "<table border=\"1\" class=\"dataframe\">\n",
       "  <thead>\n",
       "    <tr style=\"text-align: right;\">\n",
       "      <th></th>\n",
       "      <th>delta_t</th>\n",
       "      <th>delta_t_cat</th>\n",
       "      <th>delta_t_final</th>\n",
       "      <th>projeto</th>\n",
       "      <th>user_id</th>\n",
       "      <th>versao</th>\n",
       "    </tr>\n",
       "  </thead>\n",
       "  <tbody>\n",
       "    <tr>\n",
       "      <th>0</th>\n",
       "      <td>3.493748</td>\n",
       "      <td>227.54337</td>\n",
       "      <td>3.424403</td>\n",
       "      <td>GDE</td>\n",
       "      <td>4122330881</td>\n",
       "      <td>A</td>\n",
       "    </tr>\n",
       "    <tr>\n",
       "      <th>1</th>\n",
       "      <td>3.493748</td>\n",
       "      <td>227.54337</td>\n",
       "      <td>3.424403</td>\n",
       "      <td>GDE</td>\n",
       "      <td>4122330881</td>\n",
       "      <td>A</td>\n",
       "    </tr>\n",
       "    <tr>\n",
       "      <th>2</th>\n",
       "      <td>3.493748</td>\n",
       "      <td>227.54337</td>\n",
       "      <td>3.424403</td>\n",
       "      <td>ModSim</td>\n",
       "      <td>4122330881</td>\n",
       "      <td>A</td>\n",
       "    </tr>\n",
       "    <tr>\n",
       "      <th>3</th>\n",
       "      <td>3.493748</td>\n",
       "      <td>227.54337</td>\n",
       "      <td>3.424403</td>\n",
       "      <td>GDE</td>\n",
       "      <td>4122330881</td>\n",
       "      <td>A</td>\n",
       "    </tr>\n",
       "    <tr>\n",
       "      <th>4</th>\n",
       "      <td>3.493748</td>\n",
       "      <td>227.54337</td>\n",
       "      <td>3.424403</td>\n",
       "      <td>GDE</td>\n",
       "      <td>4122330881</td>\n",
       "      <td>A</td>\n",
       "    </tr>\n",
       "  </tbody>\n",
       "</table>\n",
       "</div>"
      ],
      "text/plain": [
       "    delta_t  delta_t_cat  delta_t_final projeto     user_id versao\n",
       "0  3.493748    227.54337       3.424403     GDE  4122330881      A\n",
       "1  3.493748    227.54337       3.424403     GDE  4122330881      A\n",
       "2  3.493748    227.54337       3.424403  ModSim  4122330881      A\n",
       "3  3.493748    227.54337       3.424403     GDE  4122330881      A\n",
       "4  3.493748    227.54337       3.424403     GDE  4122330881      A"
      ]
     },
     "execution_count": 13,
     "metadata": {},
     "output_type": "execute_result"
    }
   ],
   "source": [
    "data.head()"
   ]
  },
  {
   "cell_type": "markdown",
   "metadata": {},
   "source": [
    "<h3>PARTE 2 | Conhecendo um pouco os dados colhidos</h3>"
   ]
  },
  {
   "cell_type": "code",
   "execution_count": 20,
   "metadata": {
    "collapsed": false
   },
   "outputs": [
    {
     "name": "stdout",
     "output_type": "stream",
     "text": [
      "\n",
      "DISTRIBUIÇÃO DAS VERSÕES E PROJETOS ALEATÓRIOS\n",
      "\n"
     ]
    },
    {
     "data": {
      "image/png": "[encoded data removed]",
      "text/plain": [
       "<matplotlib.figure.Figure at 0x10b99f0>"
      ]
     },
     "metadata": {},
     "output_type": "display_data"
    }
   ],
   "source": [
    "print('\\nDISTRIBUIÇÃO DAS VERSÕES E PROJETOS ALEATÓRIOS\\n')\n",
    "\n",
    "plt.subplot(221)\n",
    "plt.title('Versões sorteadas')\n",
    "data.versao.value_counts().plot(kind='pie', colormap='Blues', autopct='%.1f', figsize=(8,8))\n",
    "\n",
    "plt.subplot(222)\n",
    "plt.title('Projetos sorteados')\n",
    "data.projeto.value_counts().plot(kind='pie', colormap='Blues', autopct='%.1f', figsize=(8,8))\n",
    "\n",
    "plt.show()"
   ]
  },
  {
   "cell_type": "markdown",
   "metadata": {},
   "source": [
    "<p>Os gráficos acima nos mostram que usando a função aleatória no script do site, conseguimos uma distribuição muito bem equilibrada, com exatamente 50% em cada versão, e muito próximo da metade nos projetos.</p>"
   ]
  },
  {
   "cell_type": "code",
   "execution_count": 55,
   "metadata": {
    "collapsed": false
   },
   "outputs": [
    {
     "name": "stdout",
     "output_type": "stream",
     "text": [
      "\n",
      "VERSÃO A\n",
      "\n",
      "Média (Delta T): 32.960807400818005\n",
      "Variância (Delta T): 149.61659426471314\n",
      "\n",
      "Média (Delta T Categoria-Inicial): 42.58056576278127\n",
      "Variância (Delta T Categoria-Inicial): 1648.8615740616628\n",
      "\n",
      "Média (Delta T Final-Categoria): 32.89142102249468\n",
      "Variância (Delta T Final-Categoria): 149.58426522633332\n",
      "Tamanho da Amostra em A:  489\n",
      "\n",
      "\n",
      "\n",
      "VERSÃO B\n",
      "\n",
      "Média (Delta T): 32.44058332515355\n",
      "Variância (Delta T): 155.6587316029042\n",
      "\n",
      "Média (Delta T Categoria-Inicial): 32.43760126584877\n",
      "Variância (Delta T Categoria-Inicial): 155.7480551375136\n",
      "\n",
      "Média (Delta T Final-Categoria): 32.435237224948715\n",
      "Variância (Delta T Final-Categoria): 154.98791351025216\n",
      "Tamanho da Amostra em B:  489\n"
     ]
    }
   ],
   "source": [
    "#Filtragem de dados - Vimos que alguém deixou um tempo absurdo aberto\n",
    "vA = data[(data.versao == \"A\") & (data.delta_t < 3000)]\n",
    "vB = data[(data.versao == \"B\") & (data.delta_t < 3000)]\n",
    "\n",
    "#VERSÃO A - cálculo de média e variância\n",
    "mu_Ta = vA.delta_t.mean()\n",
    "s_Ta = vA.delta_t.var()\n",
    "\n",
    "mu_cata = vA.delta_t_cat.mean()\n",
    "s_cata = vA.delta_t_cat.var()\n",
    "\n",
    "mu_fa = vA.delta_t_final.mean()\n",
    "s_fa = vA.delta_t_final.var()\n",
    "\n",
    "print(\"\"\"\n",
    "VERSÃO A\n",
    "\n",
    "Média (Delta T): {0}\n",
    "Variância (Delta T): {1}\n",
    "\n",
    "Média (Delta T Categoria-Inicial): {2}\n",
    "Variância (Delta T Categoria-Inicial): {3}\n",
    "\n",
    "Média (Delta T Final-Categoria): {4}\n",
    "Variância (Delta T Final-Categoria): {5}\"\"\".format(mu_Ta, s_Ta, mu_cata, s_cata, mu_fa, s_fa))\n",
    "print(\"Tamanho da Amostra em A: \", vA.shape[0])\n",
    "\n",
    "#VERSÃO B - cálculo de média e variância\n",
    "mu_Tb = vB.delta_t.mean()\n",
    "s_Tb = vB.delta_t.var()\n",
    "\n",
    "mu_catb = vB.delta_t_cat.mean()\n",
    "s_catb = vB.delta_t_cat.var()\n",
    "\n",
    "mu_fb = vB.delta_t_final.mean()\n",
    "s_fb = vB.delta_t_final.var()\n",
    "\n",
    "print(\"\"\"\n",
    "\\n\\nVERSÃO B\n",
    "\n",
    "Média (Delta T): {0}\n",
    "Variância (Delta T): {1}\n",
    "\n",
    "Média (Delta T Categoria-Inicial): {2}\n",
    "Variância (Delta T Categoria-Inicial): {3}\n",
    "\n",
    "Média (Delta T Final-Categoria): {4}\n",
    "Variância (Delta T Final-Categoria): {5}\"\"\".format(mu_Tb, s_Tb, mu_catb, s_catb, mu_fb, s_fb))\n",
    "print(\"Tamanho da Amostra em B: \", vB.shape[0])"
   ]
  },
  {
   "cell_type": "markdown",
   "metadata": {},
   "source": [
    "<h4>O que as medidas de tendência central e dispersão nos mostram?</h4>\n",
    "<p>A partir da análise dos valores, vimos que realmente a média é muito próxima entre as diferentes versões, mas, há de se notar o desvio padrão das amostras.<p>"
   ]
  },
  {
   "cell_type": "markdown",
   "metadata": {},
   "source": [
    "<h3>PARTE 3 | Inferências estatísticas</h3>\n",
    "<p>Para amostras com um número de elementos superior a 30, é plausível usarmos o TLC (Teorema do Limite Central) como inferência estatística. Desse modo, serão levantadas duas curvas normais, uma da versão A e outra da B, de modo a encontrar qual delas seria a melhor versão.</p>\n",
    "<p>Procedimento de análise:</p>\n",
    "<ol>\n",
    "<li>Levantamento das curvas normais das versões A e B</li>\n",
    "<li>Construção da região crítica e intervalo de confiança</li>\n",
    "<li>Check I (pré-conclusão) das análises feitas</li>\n",
    "<li>Levantamento das curvas por projeto em cada versão</li>\n",
    "<li>Construção da região crítica e intervalo de confiança</li>\n",
    "<li>Check II das análises feitas</li>\n",
    "<li>Conclusão</li>\n",
    "</ol>\n",
    "<h3>As Hipóteses</h3>\n",
    "<p><strong>Hipótese Nula- H0:</strong> Média de tempo de B < média de tempo de A</p>\n",
    "<p><strong>Hipótese Alternativa - Ha:</strong> Média de tempo de B >= média de tempo A</p>\n",
    "<h3>3.1 | Curvas Normais</h3>"
   ]
  },
  {
   "cell_type": "code",
   "execution_count": 101,
   "metadata": {
    "collapsed": false
   },
   "outputs": [
    {
     "name": "stdout",
     "output_type": "stream",
     "text": [
      "VERSÃO A\n"
     ]
    },
    {
     "data": {
      "image/png": "[encoded data removed]",
      "text/plain": [
       "<matplotlib.figure.Figure at 0x926cdb0>"
      ]
     },
     "metadata": {},
     "output_type": "display_data"
    },
    {
     "name": "stdout",
     "output_type": "stream",
     "text": [
      "VERSÃO B\n"
     ]
    },
    {
     "data": {
      "image/png": "[encoded data removed]",
      "text/plain": [
       "<matplotlib.figure.Figure at 0xca5bd0>"
      ]
     },
     "metadata": {},
     "output_type": "display_data"
    }
   ],
   "source": [
    "x = np.linspace(0, 100, 10000)\n",
    "y_T = stats.norm.pdf(x, loc=mu_Ta, scale=math.sqrt(s_Ta))\n",
    "y_cat = stats.norm.pdf(x, loc=mu_cata, scale=math.sqrt(s_cata))\n",
    "y_f = stats.norm.pdf(x, loc=mu_fa, scale=math.sqrt(s_fa))\n",
    "\n",
    "print(\"VERSÃO A\")\n",
    "\n",
    "plt.figure(figsize=(8, 6))\n",
    "plt.plot(x, y_T, lw=2, alpha=0.6, label=\"Delta T\", color=\"r\")\n",
    "plt.plot(x, y_cat, lw=1.5, alpha=0.6, label=\"Delta Categoria\", color=\"b\")\n",
    "plt.plot(x, y_f, lw=1.5, alpha=0.6, label=\"Delta Final\", color=\"g\")\n",
    "plt.legend(loc='best')\n",
    "plt.grid()\n",
    "\n",
    "plt.show()\n",
    "#________________________________________________________________________________________________________________________________\n",
    "\n",
    "x = np.linspace(0, 100, 10000)\n",
    "y_T = stats.norm.pdf(x, loc=mu_Tb, scale=math.sqrt(s_Tb))\n",
    "y_cat = stats.norm.pdf(x, loc=mu_catb, scale=math.sqrt(s_catb))\n",
    "y_f = stats.norm.pdf(x, loc=mu_fb, scale=math.sqrt(s_fb))\n",
    "\n",
    "print(\"VERSÃO B\")\n",
    "\n",
    "plt.figure(figsize=(8, 6))\n",
    "plt.plot(x, y_T, lw=2, alpha=0.6, label=\"Delta T\", color=\"r\")\n",
    "plt.plot(x, y_cat, lw=1.5, alpha=0.6, label=\"Delta Categoria\", color=\"b\")\n",
    "plt.plot(x, y_f, lw=1.5, alpha=0.6, label=\"Delta Final\", color=\"g\")\n",
    "plt.legend(loc='best')\n",
    "plt.grid()\n",
    "\n",
    "plt.show()"
   ]
  },
  {
   "cell_type": "markdown",
   "metadata": {},
   "source": [
    "<h4>Primeiras observações</h4>\n",
    "<p>Percebe-se que as curvas normais do tempo total de ambas as versões está muito próximo, ou seja, existe uma possibilidade de que o tempo médio seja muito próximo.</p>\n",
    "<p>Pode-se observar, também, que na versão A, há uma grande variância entre os tempos para se achar as categorias, ou seja, <strong>será que apesar de ambas as versões terem um tempo médio próximo, na versão B é mais fácil achar a categoria?</strong></p>\n",
    "<h3>3.2 | Intervalo de Confiança</h3>"
   ]
  },
  {
   "cell_type": "code",
   "execution_count": 124,
   "metadata": {
    "collapsed": false
   },
   "outputs": [
    {
     "data": {
      "image/png": "[encoded data removed]",
      "text/plain": [
       "<matplotlib.figure.Figure at 0x90cc2d0>"
      ]
     },
     "metadata": {},
     "output_type": "display_data"
    },
    {
     "name": "stdout",
     "output_type": "stream",
     "text": [
      "\n",
      "Média A: 32.961\n",
      "Média B: 32.441\n",
      "\n",
      "Intervalo de Confiança (95%) A: (12.841309463818089, 53.080305337817919) - tamanho: 40.238995873999826\n",
      "Intervalo de Confiança (95%) B: (11.918851859192099, 52.962314791114991) - tamanho: 41.04346293192289\n"
     ]
    }
   ],
   "source": [
    "#Para apenas o DELTA_T\n",
    "\n",
    "z95 = stats.norm.ppf(.95, loc=0, scale=1) #gamma de 95%\n",
    "\n",
    "#A\n",
    "y_T = stats.norm.pdf(x, loc=mu_Ta, scale=math.sqrt(s_Ta))\n",
    "IC = ((mu_Ta-z95*math.sqrt(s_Ta), (mu_Ta+z95*math.sqrt(s_Ta))))\n",
    "\n",
    "#B\n",
    "y_Tb = stats.norm.pdf(x, loc=mu_Tb, scale=math.sqrt(s_Tb))\n",
    "ICb = ((mu_Tb-z95*math.sqrt(s_Tb), (mu_Tb+z95*math.sqrt(s_Tb))))\n",
    "\n",
    "#Start Plot\n",
    "plt.figure(figsize=(12, 8))\n",
    "#Plot A\n",
    "plt.plot(x, y_T, lw=2, alpha=0.6, label=\"Delta T\", color=\"r\")\n",
    "plt.axvline(IC[0], lw=2, ls=\"dashed\", color='black', label=\"IC Vs. A\")\n",
    "plt.axvline(IC[1], lw=2, ls=\"dashed\", color='black')\n",
    "#Plot B\n",
    "plt.plot(x, y_Tb, lw=2, alpha=0.6, label=\"Delta T\", color=\"b\")\n",
    "plt.axvline(ICb[0], lw=2, ls=\"dashed\", color='g', label=\"IC Vs. B\")\n",
    "plt.axvline(ICb[1], lw=2, ls=\"dashed\", color='g')\n",
    "\n",
    "plt.legend(loc='best')\n",
    "plt.grid()\n",
    "\n",
    "plt.show()\n",
    "\n",
    "print(\"\"\"\n",
    "Média A: {0}\n",
    "Média B: {1}\n",
    "\n",
    "Intervalo de Confiança (95%) A: {2} - tamanho: {4}\n",
    "Intervalo de Confiança (95%) B: {3} - tamanho: {5}\"\"\".format(round(mu_Ta, 3), round(mu_Tb, 3), IC, ICb, (IC[1]-IC[0]),\n",
    "                                                             (ICb[1]-ICb[0])))\n"
   ]
  },
  {
   "cell_type": "markdown",
   "metadata": {},
   "source": [
    "<h3>3.3 | Check I</h3>\n",
    "<p>Primeiramente foram definidas as hipóteses nula e alternativa, e com base nelas seguimos o processo de inferência estatística.</p>\n",
    "<p>Logo no item 3.1 foi possível se observar que talvez a B fosse melhor que a versão A, mas não necessariamente no tempo médio total de se achar um projeto, mas, na dificuldade ou facilidade de se encontrar a categoria em que o projeto estava \"escondido\".</p>\n",
    "<p>Pelo item 3.2, podemos observar que as médias do tempo total são extremamentes próximas e, os intervalos para um coeficiente de confiança de 95% também, ou seja, <strong>rejeitamos a Hipótese Nula</strong> de que a média de tempo da versão B é maior que a A. Desse modo, devemos refazer nossa inferência.</p>\n",
    "<p>Se conseguimos provar que o tempo médio e o intervalo de confiança de ambas as versões são muito próximos, podemos então testar novas hipóteses.</p>\n",
    "<p>Vale ressaltar que o \"tamanho\" expresso no gráfico acima, se refere a distância que o intervalo de confiança preenche</p>\n",
    "<h4>Novas Hipóteses</h4>\n",
    "<p><strong>Hipótese Nula- H0:</strong> Média de tempo para achar a categoria do projeto em B < média de tempo para achar a categoria do projeto em A</p>\n",
    "<p><strong>Hipótese Alternativa - Ha:</strong>  Média de tempo para achar a categoria do projeto em B >= média de tempo para achar a categoria do projeto em A</p>"
   ]
  },
  {
   "cell_type": "code",
   "execution_count": 125,
   "metadata": {
    "collapsed": false
   },
   "outputs": [
    {
     "data": {
      "image/png": "[encoded data removed]",
      "text/plain": [
       "<matplotlib.figure.Figure at 0x9105b70>"
      ]
     },
     "metadata": {},
     "output_type": "display_data"
    },
    {
     "name": "stdout",
     "output_type": "stream",
     "text": [
      "\n",
      "Média A: 42.581\n",
      "Média B: 32.438\n",
      "\n",
      "Intervalo de Confiança (95%) A: (-24.210651013169077, 99.752024176768344) - tamanho: 123.96267518993741\n",
      "Intervalo de Confiança (95%) B: (11.909982527539366, 52.968202063462954) - tamanho: 41.058219535923584\n"
     ]
    }
   ],
   "source": [
    "#Para apenas o DELTA_T ATÉ ENCONTRAR A CATEGORIA\n",
    "x = np.linspace(-50, 150, 10000)\n",
    "z95 = stats.norm.ppf(.95, loc=0, scale=1) #gamma de 95%\n",
    "\n",
    "#A\n",
    "y_T = stats.norm.pdf(x, loc=mu_cata, scale=math.sqrt(s_cata))\n",
    "IC = ((mu_cata-z95*math.sqrt(s_cata), (mu_Ta+z95*math.sqrt(s_cata))))\n",
    "\n",
    "#B\n",
    "y_Tb = stats.norm.pdf(x, loc=mu_catb, scale=math.sqrt(s_catb))\n",
    "ICb = ((mu_catb-z95*math.sqrt(s_catb), (mu_Tb+z95*math.sqrt(s_catb))))\n",
    "\n",
    "#Start Plot\n",
    "plt.figure(figsize=(12, 8))\n",
    "#Plot A\n",
    "plt.plot(x, y_T, lw=2, alpha=0.6, label=\"Delta T\", color=\"r\")\n",
    "plt.axvline(IC[0], lw=2, ls=\"dashed\", color='black', label=\"IC Vs. A\")\n",
    "plt.axvline(IC[1], lw=2, ls=\"dashed\", color='black')\n",
    "#Plot B\n",
    "plt.plot(x, y_Tb, lw=2, alpha=0.6, label=\"Delta T\", color=\"b\")\n",
    "plt.axvline(ICb[0], lw=2, ls=\"dashed\", color='g', label=\"IC Vs. B\")\n",
    "plt.axvline(ICb[1], lw=2, ls=\"dashed\", color='g')\n",
    "\n",
    "plt.legend(loc='best')\n",
    "plt.grid()\n",
    "\n",
    "plt.show()\n",
    "\n",
    "print(\"\"\"\n",
    "Média A: {0}\n",
    "Média B: {1}\n",
    "\n",
    "Intervalo de Confiança (95%) A: {2} - tamanho: {4}\n",
    "Intervalo de Confiança (95%) B: {3} - tamanho: {5}\"\"\".format(round(mu_cata, 3), round(mu_catb, 3), IC, ICb, (IC[1]-IC[0]),\n",
    "                                                             (ICb[1]-ICb[0])))\n",
    "\n"
   ]
  },
  {
   "cell_type": "markdown",
   "metadata": {},
   "source": [
    "<h3>3.3.2 | Check I - Continuação</h3>\n",
    "<p>Analisando a distribuição acima e os valores das medidas mostrados, é possível observar que a média de tempo para se encontrar uma categoria de projeto na versão B é menor que em A, e ainda, observa-se que o intervalo de confiança (coeficiente de confiança de 95%) de A é muito maior que B, ou seja, <strong>não rejeitamos a hipótese nula H0</strong>, já que é possível observar que achar uma categoria de projeto em B é mais rápido que achar em A.</p>\n",
    "<p><strong>Até o momento:</strong> A versão B é melhor que a A pois os usuários acham com maior facilidade as categorias</p>"
   ]
  },
  {
   "cell_type": "code",
   "execution_count": null,
   "metadata": {
    "collapsed": true
   },
   "outputs": [],
   "source": []
  },
  {
   "cell_type": "code",
   "execution_count": null,
   "metadata": {
    "collapsed": true
   },
   "outputs": [],
   "source": []
  },
  {
   "cell_type": "code",
   "execution_count": null,
   "metadata": {
    "collapsed": true
   },
   "outputs": [],
   "source": []
  },
  {
   "cell_type": "code",
   "execution_count": null,
   "metadata": {
    "collapsed": true
   },
   "outputs": [],
   "source": []
  },
  {
   "cell_type": "code",
   "execution_count": 68,
   "metadata": {
    "collapsed": true
   },
   "outputs": [],
   "source": [
    "### ModSim\n",
    "mod_A = vA[vA.projeto == \"ModSim\"]\n",
    "mod_B = vB[vB.projeto == \"ModSim\"]"
   ]
  },
  {
   "cell_type": "markdown",
   "metadata": {
    "collapsed": false
   },
   "source": [
    "#### plt.subplot(221)\n",
    "plt.title('Versões sorteadas para ModSim')\n",
    "data.versao[data.projeto == \"ModSim\"].value_counts().plot(kind='pie', colormap='PuBu_r', autopct='%.1f', figsize=(8,8))"
   ]
  },
  {
   "cell_type": "code",
   "execution_count": 69,
   "metadata": {
    "collapsed": false
   },
   "outputs": [
    {
     "name": "stdout",
     "output_type": "stream",
     "text": [
      "ModSim versão A\n",
      "Média (Delta T): 32.77845833195022\n",
      "Variância (Delta T): 156.23281032279908\n",
      "\n",
      "Média (Delta T Categoria-Inicial): 40.213620970954445\n",
      "Variância (Delta T Categoria-Inicial): 1336.6072669328385\n",
      "\n",
      "Média (Delta T Final-Categoria): 32.71048685892104\n",
      "Variância (Delta T Final-Categoria): 156.10770685549963\n"
     ]
    }
   ],
   "source": [
    "#ModSim versão A\n",
    "mu_mod_A = mod_A.delta_t.mean()\n",
    "s_mod_A = mod_A.delta_t.var()\n",
    "\n",
    "mu_cat_Mod_A = mod_A.delta_t_cat.mean()\n",
    "s_cat_Mod_A = mod_A.delta_t_cat.var()\n",
    "\n",
    "mu_fb_Mod_A = mod_A.delta_t_final.mean()\n",
    "s_fb_Mod_A = mod_A.delta_t_final.var()\n",
    "\n",
    "print(\"ModSim versão A\")\n",
    "print(\"\"\"Média (Delta T): {0}\n",
    "Variância (Delta T): {1}\n",
    "\n",
    "Média (Delta T Categoria-Inicial): {2}\n",
    "Variância (Delta T Categoria-Inicial): {3}\n",
    "\n",
    "Média (Delta T Final-Categoria): {4}\n",
    "Variância (Delta T Final-Categoria): {5}\"\"\".format(mu_mod_A, s_mod_A, mu_cat_Mod_A, s_cat_Mod_A, mu_fb_Mod_A, s_fb_Mod_A))"
   ]
  },
  {
   "cell_type": "code",
   "execution_count": 70,
   "metadata": {
    "collapsed": false
   },
   "outputs": [
    {
     "name": "stdout",
     "output_type": "stream",
     "text": [
      "ModSim versão B\n",
      "Média (Delta T): 31.896569815573866\n",
      "Variância (Delta T): 170.7886054309538\n",
      "\n",
      "Média (Delta T Categoria-Inicial): 31.893642098360733\n",
      "Variância (Delta T Categoria-Inicial): 170.8731312803912\n",
      "\n",
      "Média (Delta T Final-Categoria): 31.888980459016313\n",
      "Variância (Delta T Final-Categoria): 170.27062127434186\n"
     ]
    }
   ],
   "source": [
    "#ModSim versão B\n",
    "mu_mod_B = mod_B.delta_t.mean()\n",
    "s_mod_B = mod_B.delta_t.var()\n",
    "\n",
    "mu_cat_Mod_B = mod_B.delta_t_cat.mean()\n",
    "s_cat_Mod_B = mod_B.delta_t_cat.var()\n",
    "\n",
    "mu_fb_Mod_B = mod_B.delta_t_final.mean()\n",
    "s_fb_Mod_B = mod_B.delta_t_final.var()\n",
    "\n",
    "print(\"ModSim versão B\")\n",
    "\n",
    "print(\"\"\"Média (Delta T): {0}\n",
    "Variância (Delta T): {1}\n",
    "\n",
    "Média (Delta T Categoria-Inicial): {2}\n",
    "Variância (Delta T Categoria-Inicial): {3}\n",
    "\n",
    "Média (Delta T Final-Categoria): {4}\n",
    "Variância (Delta T Final-Categoria): {5}\"\"\".format(mu_mod_B, s_mod_B, mu_cat_Mod_B, s_cat_Mod_B, mu_fb_Mod_B, s_fb_Mod_B))"
   ]
  },
  {
   "cell_type": "code",
   "execution_count": 71,
   "metadata": {
    "collapsed": true
   },
   "outputs": [],
   "source": [
    "#GDE\n",
    "gde_A = vA[vA.projeto == \"GDE\"]\n",
    "gde_B = vB[vB.projeto == \"GDE\"]"
   ]
  },
  {
   "cell_type": "code",
   "execution_count": 72,
   "metadata": {
    "collapsed": false
   },
   "outputs": [
    {
     "data": {
      "text/plain": [
       "<matplotlib.axes._subplots.AxesSubplot at 0x930d530>"
      ]
     },
     "execution_count": 72,
     "metadata": {},
     "output_type": "execute_result"
    },
    {
     "data": {
      "image/png": "[encoded data removed]",
      "text/plain": [
       "<matplotlib.figure.Figure at 0x90ed750>"
      ]
     },
     "metadata": {},
     "output_type": "display_data"
    }
   ],
   "source": [
    "plt.subplot(221)\n",
    "plt.title('Versões sorteadas para GDE')\n",
    "data.versao[data.projeto == \"GDE\"].value_counts().plot(kind='pie', colormap='PuBu_r', autopct='%.1f', figsize=(8,8))"
   ]
  },
  {
   "cell_type": "code",
   "execution_count": 73,
   "metadata": {
    "collapsed": false
   },
   "outputs": [
    {
     "name": "stdout",
     "output_type": "stream",
     "text": [
      "GDE versão A\n",
      "Média (Delta T): 33.13800952016132\n",
      "Variância (Delta T): 143.72964632402292\n",
      "\n",
      "Média (Delta T Categoria-Inicial): 44.88070162903245\n",
      "Variância (Delta T Categoria-Inicial): 1948.1637409488067\n",
      "\n",
      "Média (Delta T Final-Categoria): 33.06724817338698\n",
      "Variância (Delta T Final-Categoria): 143.78832048751002\n"
     ]
    }
   ],
   "source": [
    "#GDE versão A\n",
    "mu_gde_A = gde_A.delta_t.mean()\n",
    "s_gde_A = gde_A.delta_t.var()\n",
    "\n",
    "mu_cat_gde_A = gde_A.delta_t_cat.mean()\n",
    "s_cat_gde_A = gde_A.delta_t_cat.var()\n",
    "\n",
    "mu_fb_gde_A = gde_A.delta_t_final.mean()\n",
    "s_fb_gde_A = gde_A.delta_t_final.var()\n",
    "\n",
    "print(\"GDE versão A\")\n",
    "print(\"\"\"Média (Delta T): {0}\n",
    "Variância (Delta T): {1}\n",
    "\n",
    "Média (Delta T Categoria-Inicial): {2}\n",
    "Variância (Delta T Categoria-Inicial): {3}\n",
    "\n",
    "Média (Delta T Final-Categoria): {4}\n",
    "Variância (Delta T Final-Categoria): {5}\"\"\".format(mu_gde_A, s_gde_A, mu_cat_gde_A, s_cat_gde_A, mu_fb_gde_A, s_fb_gde_A))"
   ]
  },
  {
   "cell_type": "code",
   "execution_count": 74,
   "metadata": {
    "collapsed": false
   },
   "outputs": [
    {
     "name": "stdout",
     "output_type": "stream",
     "text": [
      "GDE versão B\n",
      "Média (Delta T): 32.98237637142867\n",
      "Variância (Delta T): 140.63811764062902\n",
      "\n",
      "Média (Delta T Categoria-Inicial): 32.97934019183682\n",
      "Variância (Delta T Categoria-Inicial): 140.73270328192265\n",
      "\n",
      "Média (Delta T Final-Categoria): 32.979264371428485\n",
      "Variância (Delta T Final-Categoria): 139.80746119728548\n"
     ]
    }
   ],
   "source": [
    "#GDE versão B\n",
    "mu_gde_B = gde_B.delta_t.mean()\n",
    "s_gde_B = gde_B.delta_t.var()\n",
    "\n",
    "mu_cat_gde_B = gde_B.delta_t_cat.mean()\n",
    "s_cat_gde_B = gde_B.delta_t_cat.var()\n",
    "\n",
    "mu_fb_gde_B = gde_B.delta_t_final.mean()\n",
    "s_fb_gde_B = gde_B.delta_t_final.var()\n",
    "\n",
    "print(\"GDE versão B\")\n",
    "print(\"\"\"Média (Delta T): {0}\n",
    "Variância (Delta T): {1}\n",
    "\n",
    "Média (Delta T Categoria-Inicial): {2}\n",
    "Variância (Delta T Categoria-Inicial): {3}\n",
    "\n",
    "Média (Delta T Final-Categoria): {4}\n",
    "Variância (Delta T Final-Categoria): {5}\"\"\".format(mu_gde_B, s_gde_B, mu_cat_gde_B, s_cat_gde_B, mu_fb_gde_B, s_fb_gde_B))"
   ]
  },
  {
   "cell_type": "markdown",
   "metadata": {},
   "source": [
    "### Hipótese 0: mu_A = mu_B"
   ]
  },
  {
   "cell_type": "markdown",
   "metadata": {},
   "source": [
    "### Hipótese A: mu_A != mu_B"
   ]
  },
  {
   "cell_type": "markdown",
   "metadata": {},
   "source": [
    "### Alfa = 3%"
   ]
  },
  {
   "cell_type": "code",
   "execution_count": 75,
   "metadata": {
    "collapsed": false
   },
   "outputs": [
    {
     "data": {
      "text/plain": [
       "0.49794213860834047"
      ]
     },
     "execution_count": 75,
     "metadata": {},
     "output_type": "execute_result"
    }
   ],
   "source": [
    "#ModSim \n",
    "n_mod = len(mod_B)\n",
    "porcent_mod = stats.t.cdf(x = mu_mod_B, df = (n_mod-1), loc = mu_mod_A, scale = s_mod_B)\n",
    "porcent_mod"
   ]
  },
  {
   "cell_type": "markdown",
   "metadata": {},
   "source": [
    "###### Rejeito Hipótese Nula"
   ]
  },
  {
   "cell_type": "code",
   "execution_count": 76,
   "metadata": {
    "collapsed": false
   },
   "outputs": [
    {
     "data": {
      "image/png": "[encoded data removed]",
      "text/plain": [
       "<matplotlib.figure.Figure at 0x96afaf0>"
      ]
     },
     "metadata": {},
     "output_type": "display_data"
    }
   ],
   "source": [
    "plt.subplot(221)\n",
    "plt.title('Histograma Modsim A')\n",
    "mod_A.delta_t.plot(kind='hist', colormap='PuBu_r', figsize=(6,6))\n",
    "\n",
    "plt.subplot(222)\n",
    "plt.title('Histograma Modsim B')\n",
    "mod_B.delta_t.plot(kind='hist', colormap='PuBu_r', figsize=(6,6))\n",
    "\n",
    "plt.show()"
   ]
  },
  {
   "cell_type": "code",
   "execution_count": 77,
   "metadata": {
    "collapsed": false
   },
   "outputs": [
    {
     "data": {
      "text/plain": [
       "0.49955897413209055"
      ]
     },
     "execution_count": 77,
     "metadata": {},
     "output_type": "execute_result"
    }
   ],
   "source": [
    "#GDE\n",
    "n_gde = len(gde_B)\n",
    "porcent_gde = stats.t.cdf(x = mu_gde_B, df = (n_gde-1), loc = mu_gde_A, scale = s_gde_B)\n",
    "porcent_gde"
   ]
  },
  {
   "cell_type": "markdown",
   "metadata": {},
   "source": [
    "###### Rejeito Hipótese Nula"
   ]
  },
  {
   "cell_type": "code",
   "execution_count": 78,
   "metadata": {
    "collapsed": false
   },
   "outputs": [
    {
     "data": {
      "image/png": "[encoded data removed]",
      "text/plain": [
       "<matplotlib.figure.Figure at 0x9b1d250>"
      ]
     },
     "metadata": {},
     "output_type": "display_data"
    }
   ],
   "source": [
    "plt.subplot(221)\n",
    "plt.title('Histograma GDE A')\n",
    "gde_A.delta_t.plot(kind='hist', colormap='PuBu_r', figsize=(6,6))\n",
    "\n",
    "plt.subplot(222)\n",
    "plt.title('Histograma GDE B')\n",
    "gde_B.delta_t.plot(kind='hist', colormap='PuBu_r', figsize=(6,6))\n",
    "\n",
    "plt.show()"
   ]
  },
  {
   "cell_type": "code",
   "execution_count": null,
   "metadata": {
    "collapsed": true
   },
   "outputs": [],
   "source": []
  }
 ],
 "metadata": {
  "anaconda-cloud": {},
  "kernelspec": {
   "display_name": "Python [Root]",
   "language": "python",
   "name": "Python [Root]"
  },
  "language_info": {
   "codemirror_mode": {
    "name": "ipython",
    "version": 3
   },
   "file_extension": ".py",
   "mimetype": "text/x-python",
   "name": "python",
   "nbconvert_exporter": "python",
   "pygments_lexer": "ipython3",
   "version": "3.5.2"
  }
 },
 "nbformat": 4,
 "nbformat_minor": 0
}
