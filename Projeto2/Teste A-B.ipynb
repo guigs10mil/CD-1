{
 "cells": [
  {
   "cell_type": "code",
   "execution_count": 1,
   "metadata": {
    "collapsed": true
   },
   "outputs": [],
   "source": [
    "import pandas as pd\n",
    "import json\n",
    "import itertools\n",
    "import matplotlib.pyplot as plt\n",
    "%matplotlib inline"
   ]
  },
  {
   "cell_type": "code",
   "execution_count": 2,
   "metadata": {
    "collapsed": false
   },
   "outputs": [
    {
     "data": {
      "text/html": [
       "<div>\n",
       "<table border=\"1\" class=\"dataframe\">\n",
       "  <thead>\n",
       "    <tr style=\"text-align: right;\">\n",
       "      <th></th>\n",
       "      <th>projeto</th>\n",
       "      <th>tempo</th>\n",
       "      <th>tipo</th>\n",
       "      <th>user_id</th>\n",
       "      <th>versao</th>\n",
       "    </tr>\n",
       "  </thead>\n",
       "  <tbody>\n",
       "    <tr>\n",
       "      <th>0</th>\n",
       "      <td>GDE</td>\n",
       "      <td>1478489225485</td>\n",
       "      <td>escolha_categoria</td>\n",
       "      <td>655675346</td>\n",
       "      <td>A</td>\n",
       "    </tr>\n",
       "    <tr>\n",
       "      <th>1</th>\n",
       "      <td>ModSim</td>\n",
       "      <td>1478488950831</td>\n",
       "      <td>inicio</td>\n",
       "      <td>655675346</td>\n",
       "      <td>A</td>\n",
       "    </tr>\n",
       "    <tr>\n",
       "      <th>2</th>\n",
       "      <td>GDE</td>\n",
       "      <td>1478487341466</td>\n",
       "      <td>inicio</td>\n",
       "      <td>655675346</td>\n",
       "      <td>A</td>\n",
       "    </tr>\n",
       "    <tr>\n",
       "      <th>3</th>\n",
       "      <td>GDE</td>\n",
       "      <td>1478488285362</td>\n",
       "      <td>final</td>\n",
       "      <td>655675346</td>\n",
       "      <td>B</td>\n",
       "    </tr>\n",
       "    <tr>\n",
       "      <th>4</th>\n",
       "      <td>ModSim</td>\n",
       "      <td>1478488266040</td>\n",
       "      <td>escolha_categoria</td>\n",
       "      <td>655675346</td>\n",
       "      <td>A</td>\n",
       "    </tr>\n",
       "  </tbody>\n",
       "</table>\n",
       "</div>"
      ],
      "text/plain": [
       "  projeto          tempo               tipo    user_id versao\n",
       "0     GDE  1478489225485  escolha_categoria  655675346      A\n",
       "1  ModSim  1478488950831             inicio  655675346      A\n",
       "2     GDE  1478487341466             inicio  655675346      A\n",
       "3     GDE  1478488285362              final  655675346      B\n",
       "4  ModSim  1478488266040  escolha_categoria  655675346      A"
      ]
     },
     "execution_count": 2,
     "metadata": {},
     "output_type": "execute_result"
    }
   ],
   "source": [
    "with open('data/cd-teste-ab-export.json') as data_file:    \n",
    "    data = json.load(data_file)\n",
    "    \n",
    "data = data['logs']\n",
    "\n",
    "resultados = list()\n",
    "\n",
    "for key in data.keys():\n",
    "    resultados.append(data[key])\n",
    "    \n",
    "data = pd.DataFrame(resultados)\n",
    "\n",
    "data['user_id'] = data['user_id'].apply(pd.to_numeric)\n",
    "\n",
    "data.head()"
   ]
  },
  {
   "cell_type": "code",
   "execution_count": 3,
   "metadata": {
    "collapsed": false
   },
   "outputs": [],
   "source": [
    "agrupado = data.groupby(by=[\"user_id\", \"versao\"])"
   ]
  },
  {
   "cell_type": "code",
   "execution_count": 4,
   "metadata": {
    "collapsed": false
   },
   "outputs": [],
   "source": [
    "users = set(data.user_id)"
   ]
  },
  {
   "cell_type": "code",
   "execution_count": 5,
   "metadata": {
    "collapsed": true
   },
   "outputs": [],
   "source": [
    "users = list(users)"
   ]
  },
  {
   "cell_type": "code",
   "execution_count": 6,
   "metadata": {
    "collapsed": false
   },
   "outputs": [],
   "source": [
    "resultados = []\n",
    "\n",
    "for u in users:\n",
    "    for versao in [\"A\", \"B\"]:\n",
    "        for proj in data[data.user_id ==  u].projeto:\n",
    "            if (u, versao) in agrupado.groups.keys(): \n",
    "                grupo1 =  agrupado.get_group((u, versao))\n",
    "                grupo1 = grupo1.sort_values(by=\"tempo\") \n",
    "\n",
    "                if len(grupo1[grupo1.tipo==\"final\"])>= 1 and len(grupo1[grupo1.tipo==\"inicio\"]) >= 1 and len(grupo1[grupo1.tipo==\"escolha_categoria\"]) >= 1:\n",
    "                    delta_t1 = grupo1[grupo1.tipo==\"escolha_categoria\"].iloc[-1].tempo - grupo1[grupo1.tipo==\"inicio\"].iloc[0].tempo\n",
    "                    delta_t2 = grupo1[grupo1.tipo==\"final\"].iloc[-1].tempo - grupo1[grupo1.tipo==\"escolha_categoria\"].iloc[0].tempo\n",
    "                    delta_t3 = grupo1[grupo1.tipo==\"final\"].iloc[-1].tempo - grupo1[grupo1.tipo==\"inicio\"].iloc[0].tempo\n",
    "                    \n",
    "                    resultados.append({\"user_id\":u, \"delta_t_cat\":delta_t1, \"delta_t_final\":delta_t2, \"delta_t\":delta_t3, \"versao\":versao, \"projeto\":proj})"
   ]
  },
  {
   "cell_type": "code",
   "execution_count": 7,
   "metadata": {
    "collapsed": true
   },
   "outputs": [],
   "source": [
    "grupo1.sort_values(by=\"tempo\")\n",
    "data = pd.DataFrame(resultados)"
   ]
  },
  {
   "cell_type": "code",
   "execution_count": 8,
   "metadata": {
    "collapsed": false
   },
   "outputs": [
    {
     "data": {
      "text/html": [
       "<div>\n",
       "<table border=\"1\" class=\"dataframe\">\n",
       "  <thead>\n",
       "    <tr style=\"text-align: right;\">\n",
       "      <th></th>\n",
       "      <th>delta_t</th>\n",
       "      <th>delta_t_cat</th>\n",
       "      <th>delta_t_final</th>\n",
       "      <th>projeto</th>\n",
       "      <th>user_id</th>\n",
       "      <th>versao</th>\n",
       "    </tr>\n",
       "  </thead>\n",
       "  <tbody>\n",
       "    <tr>\n",
       "      <th>0</th>\n",
       "      <td>3493.748</td>\n",
       "      <td>227543.37</td>\n",
       "      <td>3424.403</td>\n",
       "      <td>GDE</td>\n",
       "      <td>4122330881</td>\n",
       "      <td>A</td>\n",
       "    </tr>\n",
       "    <tr>\n",
       "      <th>1</th>\n",
       "      <td>3493.748</td>\n",
       "      <td>227543.37</td>\n",
       "      <td>3424.403</td>\n",
       "      <td>GDE</td>\n",
       "      <td>4122330881</td>\n",
       "      <td>A</td>\n",
       "    </tr>\n",
       "    <tr>\n",
       "      <th>2</th>\n",
       "      <td>3493.748</td>\n",
       "      <td>227543.37</td>\n",
       "      <td>3424.403</td>\n",
       "      <td>ModSim</td>\n",
       "      <td>4122330881</td>\n",
       "      <td>A</td>\n",
       "    </tr>\n",
       "    <tr>\n",
       "      <th>3</th>\n",
       "      <td>3493.748</td>\n",
       "      <td>227543.37</td>\n",
       "      <td>3424.403</td>\n",
       "      <td>ModSim</td>\n",
       "      <td>4122330881</td>\n",
       "      <td>A</td>\n",
       "    </tr>\n",
       "    <tr>\n",
       "      <th>4</th>\n",
       "      <td>3493.748</td>\n",
       "      <td>227543.37</td>\n",
       "      <td>3424.403</td>\n",
       "      <td>GDE</td>\n",
       "      <td>4122330881</td>\n",
       "      <td>A</td>\n",
       "    </tr>\n",
       "  </tbody>\n",
       "</table>\n",
       "</div>"
      ],
      "text/plain": [
       "    delta_t  delta_t_cat  delta_t_final projeto     user_id versao\n",
       "0  3493.748    227543.37       3424.403     GDE  4122330881      A\n",
       "1  3493.748    227543.37       3424.403     GDE  4122330881      A\n",
       "2  3493.748    227543.37       3424.403  ModSim  4122330881      A\n",
       "3  3493.748    227543.37       3424.403  ModSim  4122330881      A\n",
       "4  3493.748    227543.37       3424.403     GDE  4122330881      A"
      ]
     },
     "execution_count": 8,
     "metadata": {},
     "output_type": "execute_result"
    }
   ],
   "source": [
    "data.delta_t_cat/=1000\n",
    "data.delta_t_final/=1000\n",
    "data.delta_t/=1000\n",
    "data.head()"
   ]
  },
  {
   "cell_type": "code",
   "execution_count": 9,
   "metadata": {
    "collapsed": false
   },
   "outputs": [],
   "source": [
    "A = data.delta_t_cat.dropna\n",
    "B = data.delta_t_final.dropna\n",
    "C = data.delta_t.dropna"
   ]
  },
  {
   "cell_type": "code",
   "execution_count": 10,
   "metadata": {
    "collapsed": false
   },
   "outputs": [
    {
     "data": {
      "image/png": "[encoded data removed]",
      "text/plain": [
       "<matplotlib.figure.Figure at 0x84c9170>"
      ]
     },
     "metadata": {},
     "output_type": "display_data"
    }
   ],
   "source": [
    "plt.subplot(221)\n",
    "plt.title('Versões sorteadas')\n",
    "data.versao.value_counts().plot(kind='pie', colormap='PuBu_r', autopct='%.1f', figsize=(8,8))\n",
    "\n",
    "plt.subplot(222)\n",
    "plt.title('Projetos sorteados')\n",
    "data.projeto.value_counts().plot(kind='pie', colormap='PuBu_r', autopct='%.1f', figsize=(8,8))\n",
    "\n",
    "plt.show()"
   ]
  },
  {
   "cell_type": "markdown",
   "metadata": {},
   "source": [
    "TESTE T"
   ]
  },
  {
   "cell_type": "code",
   "execution_count": 11,
   "metadata": {
    "collapsed": true
   },
   "outputs": [],
   "source": [
    "vA = data[(data.versao == \"A\") & (data.delta_t < 3000)]\n",
    "vB = data[(data.versao == \"B\") & (data.delta_t < 3000)]"
   ]
  },
  {
   "cell_type": "code",
   "execution_count": 12,
   "metadata": {
    "collapsed": false
   },
   "outputs": [
    {
     "name": "stdout",
     "output_type": "stream",
     "text": [
      "Média (Delta T): 85.64616666666664\n",
      "Variância (Delta T): 6088.737707459349\n",
      "\n",
      "Média (Delta T Categoria-Inicial): 80.15895238095236\n",
      "Variância (Delta T Categoria-Inicial): 5688.33152863182\n",
      "\n",
      "Média (Delta T Final-Categoria): 21.17483333333333\n",
      "Variância (Delta T Final-Categoria): 1029.0036415081308\n"
     ]
    }
   ],
   "source": [
    "#versão A\n",
    "mu_T = vA.delta_t.mean()\n",
    "s_T = vA.delta_t.var()\n",
    "\n",
    "mu_cat = vA.delta_t_cat.mean()\n",
    "s_cat = vA.delta_t_cat.var()\n",
    "\n",
    "mu_f = vA.delta_t_final.mean()\n",
    "s_f = vA.delta_t_final.var()\n",
    "\n",
    "print(\"\"\"Média (Delta T): {0}\n",
    "Variância (Delta T): {1}\n",
    "\n",
    "Média (Delta T Categoria-Inicial): {2}\n",
    "Variância (Delta T Categoria-Inicial): {3}\n",
    "\n",
    "Média (Delta T Final-Categoria): {4}\n",
    "Variância (Delta T Final-Categoria): {5}\"\"\".format(mu_T, s_T, mu_cat, s_cat, mu_f, s_f))"
   ]
  },
  {
   "cell_type": "code",
   "execution_count": null,
   "metadata": {
    "collapsed": true
   },
   "outputs": [],
   "source": []
  }
 ],
 "metadata": {
  "anaconda-cloud": {},
  "kernelspec": {
   "display_name": "Python [Root]",
   "language": "python",
   "name": "Python [Root]"
  },
  "language_info": {
   "codemirror_mode": {
    "name": "ipython",
    "version": 3
   },
   "file_extension": ".py",
   "mimetype": "text/x-python",
   "name": "python",
   "nbconvert_exporter": "python",
   "pygments_lexer": "ipython3",
   "version": "3.5.2"
  }
 },
 "nbformat": 4,
 "nbformat_minor": 0
}
